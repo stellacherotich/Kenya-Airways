{
 "cells": [
  {
   "cell_type": "markdown",
   "metadata": {},
   "source": [
    "# **Kenya Airways Customer Review Sentiment Analysis**\n",
    "\n",
    "![Kenya Airways Logo](https://upload.wikimedia.org/wikipedia/commons/thumb/7/75/Kenya_Airways_Logo.svg/598px-Kenya_Airways_Logo.svg.png?20111111111353)\n",
    "\n",
    "### **Business Overview**\n",
    "Kenya Airways is among the top airlines in Africa, and in Kenya, it holds a prominent position as the flag carrier and the largest airline in the country. Since its establishment in 1977, Kenya Airways has been a key player in both domestic and international air travel, connecting Kenya to various destinations around the world. The airline is known for its commitment to providing safe, reliable, and comfortable air travel experiences to its passengers. Over the years, Kenya Airways has built a strong brand reputation, emphasizing its African heritage and hospitality.\n",
    "\n",
    "### **Project Overview**\n",
    "The aim of this project is to conduct sentiment analysis on customer reviews related to Kenya Airways. By analyzing the sentiments expressed in these reviews, we seek to gain insights into how customers perceive their experiences with the airline's services. This analysis will provide valuable feedback that can be used to enhance customer satisfaction, identify areas for improvement, and make informed business decisions to maintain and improve the airline's reputation.\n",
    "\n",
    "\n",
    "#### **Project Objectives**\n",
    "1. **Sentiment Classification**: Develop a sentiment classification model that can accurately categorize customer reviews into positive, negative, or neutral sentiments. This model will help automate the process of analyzing large volumes of reviews.\n",
    "\n",
    "2. **Feedback Analysis**: Identify common themes and specific aspects mentioned in the reviews, such as in-flight services, customer service, booking process, seating comfort, and more. This will provide a comprehensive understanding of what aspects are contributing to positive or negative sentiments."
   ]
  },
  {
   "cell_type": "markdown",
   "metadata": {},
   "source": [
    "## **<span style=\"color: navy;\">Data Importation</span>**\n"
   ]
  },
  {
   "cell_type": "code",
   "execution_count": 1,
   "metadata": {},
   "outputs": [],
   "source": [
    "# Import all the necessary libraries\n",
    "\n",
    "import requests\n",
    "from bs4 import BeautifulSoup\n",
    "import pandas as pd\n",
    "import plotly.express as px\n",
    "import matplotlib.pyplot as plt \n",
    "import seaborn as sns \n",
    "import os\n",
    "import numpy as np\n",
    "from PIL import Image\n",
    "from wordcloud import WordCloud, STOPWORDS\n",
    "\n",
    "import re\n",
    "import nltk\n",
    "import datetime\n",
    "from nltk.stem import WordNetLemmatizer\n",
    "from nltk.corpus import stopwords\n",
    "from nltk.sentiment import vader\n",
    "from collections import Counter\n",
    "from wordcloud import WordCloud\n",
    "from nltk import ngrams\n",
    "from nltk.probability import FreqDist\n",
    "import nltk.collocations as collocations\n",
    "from nltk import FreqDist, bigrams\n",
    "\n",
    "from sklearn.feature_extraction import text\n",
    "from sklearn.feature_extraction.text import TfidfVectorizer, CountVectorizer\n",
    "from nltk.sentiment.vader import SentimentIntensityAnalyzer \n",
    "from sklearn.decomposition import LatentDirichletAllocation, NMF\n",
    "from sklearn.metrics import accuracy_score, classification_report\n",
    "\n",
    "from sklearn.tree import DecisionTreeClassifier\n",
    "from sklearn.ensemble import RandomForestClassifier\n",
    "from sklearn.svm import SVC\n",
    "import xgboost as xgb\n",
    "from sklearn.linear_model import LogisticRegression\n",
    "from sklearn.model_selection import train_test_split\n",
    "\n",
    "import warnings\n",
    "warnings.filterwarnings('ignore')\n",
    "\n"
   ]
  },
  {
   "cell_type": "code",
   "execution_count": 2,
   "metadata": {},
   "outputs": [
    {
     "name": "stdout",
     "output_type": "stream",
     "text": [
      "Scraping page 1\n",
      "   ---> 100 total reviews\n",
      "Scraping page 2\n",
      "   ---> 200 total reviews\n",
      "Scraping page 3\n",
      "   ---> 300 total reviews\n",
      "Scraping page 4\n",
      "   ---> 400 total reviews\n",
      "Scraping page 5\n",
      "   ---> 435 total reviews\n",
      "Scraping page 6\n",
      "   ---> 435 total reviews\n"
     ]
    }
   ],
   "source": [
    "def scrape_airline_reviews(base_url, pages, page_size):\n",
    "    reviews = []\n",
    "    date = []\n",
    "\n",
    "    for i in range(1, pages + 1):\n",
    "        print(f\"Scraping page {i}\")\n",
    "        url = f\"{base_url}/page/{i}/?sortby=post_date%3ADesc&pagesize={page_size}\"\n",
    "        response = requests.get(url)\n",
    "        content = response.content\n",
    "        parsed_content = BeautifulSoup(content, 'html.parser')\n",
    "\n",
    "        for review in parsed_content.find_all(\"article\", {\"itemprop\": \"review\"}):\n",
    "            # Extract review text\n",
    "            review_text = review.find(\"div\", {\"class\": \"text_content\"}).get_text()\n",
    "            reviews.append(review_text)\n",
    "\n",
    "            # Extract date\n",
    "            try:\n",
    "                review_date = review.find(\"div\", {\"class\": \"body\"}).find(\"time\").get_text()\n",
    "            except AttributeError:\n",
    "                review_date = \"N/A\"\n",
    "            date.append(review_date)\n",
    "\n",
    "        print(f\"   ---> {len(reviews)} total reviews\")\n",
    "    \n",
    "    return reviews, date\n",
    "\n",
    "# Define parameters\n",
    "base_url = \"https://www.airlinequality.com/airline-reviews/kenya-airways/\"\n",
    "pages = 6\n",
    "page_size = 100\n",
    "\n",
    "# Call the function\n",
    "reviews, date = scrape_airline_reviews(base_url, pages, page_size)"
   ]
  },
  {
   "cell_type": "code",
   "execution_count": 3,
   "metadata": {},
   "outputs": [
    {
     "data": {
      "text/html": [
       "<div>\n",
       "<style scoped>\n",
       "    .dataframe tbody tr th:only-of-type {\n",
       "        vertical-align: middle;\n",
       "    }\n",
       "\n",
       "    .dataframe tbody tr th {\n",
       "        vertical-align: top;\n",
       "    }\n",
       "\n",
       "    .dataframe thead th {\n",
       "        text-align: right;\n",
       "    }\n",
       "</style>\n",
       "<table border=\"1\" class=\"dataframe\">\n",
       "  <thead>\n",
       "    <tr style=\"text-align: right;\">\n",
       "      <th></th>\n",
       "      <th>reviews</th>\n",
       "      <th>date</th>\n",
       "    </tr>\n",
       "  </thead>\n",
       "  <tbody>\n",
       "    <tr>\n",
       "      <th>0</th>\n",
       "      <td>✅ Trip Verified |  Dreadful airline - after em...</td>\n",
       "      <td>28th August 2023</td>\n",
       "    </tr>\n",
       "    <tr>\n",
       "      <th>1</th>\n",
       "      <td>Not Verified |  The lady at check-in was very ...</td>\n",
       "      <td>26th August 2023</td>\n",
       "    </tr>\n",
       "    <tr>\n",
       "      <th>2</th>\n",
       "      <td>✅ Trip Verified |  Dismal from start to end. N...</td>\n",
       "      <td>23rd August 2023</td>\n",
       "    </tr>\n",
       "    <tr>\n",
       "      <th>3</th>\n",
       "      <td>Not Verified | Airline was 1 hour late to boar...</td>\n",
       "      <td>22nd August 2023</td>\n",
       "    </tr>\n",
       "    <tr>\n",
       "      <th>4</th>\n",
       "      <td>✅ Trip Verified |  Kenya Airways has really di...</td>\n",
       "      <td>19th August 2023</td>\n",
       "    </tr>\n",
       "  </tbody>\n",
       "</table>\n",
       "</div>"
      ],
      "text/plain": [
       "                                             reviews              date\n",
       "0  ✅ Trip Verified |  Dreadful airline - after em...  28th August 2023\n",
       "1  Not Verified |  The lady at check-in was very ...  26th August 2023\n",
       "2  ✅ Trip Verified |  Dismal from start to end. N...  23rd August 2023\n",
       "3  Not Verified | Airline was 1 hour late to boar...  22nd August 2023\n",
       "4  ✅ Trip Verified |  Kenya Airways has really di...  19th August 2023"
      ]
     },
     "execution_count": 3,
     "metadata": {},
     "output_type": "execute_result"
    }
   ],
   "source": [
    "# Create a Dataframe to store the data \n",
    "\n",
    "df = pd.DataFrame({\"reviews\":reviews, \"date\":date})\n",
    "df.head()"
   ]
  },
  {
   "cell_type": "code",
   "execution_count": 4,
   "metadata": {},
   "outputs": [],
   "source": [
    "# Saves the dataframe as a csv file in the data folder.\n",
    "\n",
    "cwd = os.getcwd()\n",
    "df.to_csv(cwd + \"/data/KQ_reviews.csv\") "
   ]
  },
  {
   "cell_type": "code",
   "execution_count": 5,
   "metadata": {},
   "outputs": [
    {
     "data": {
      "text/plain": [
       "'✅ Trip Verified |  Dreadful airline - after emailing customer service to say both my wife and I had no entertainment system as both were broken and then no choice of food as they had run out - customer service totally uninterested and not replied. Had our money and don’t care Avoid'"
      ]
     },
     "execution_count": 5,
     "metadata": {},
     "output_type": "execute_result"
    }
   ],
   "source": [
    "# Inspect index 0\n",
    "\n",
    "df['reviews'].get(0)"
   ]
  },
  {
   "cell_type": "code",
   "execution_count": 6,
   "metadata": {},
   "outputs": [],
   "source": [
    "# Class used to Describe the Data\n",
    "\n",
    "class Describer:\n",
    "    \n",
    "    # initialize object\n",
    "    def __init__(self, df):\n",
    "        self.df = df\n",
    "        \n",
    "    # method to check shape of data\n",
    "    def shape(self):\n",
    "        shape_df = print(f\"The DataFrame has:\\n\\t* {self.df.shape[0]} rows\\n\\t* {self.df.shape[1]} columns\", '\\n')\n",
    "        return shape_df\n",
    "    \n",
    "    # method to check info on dataset\n",
    "    def data_info(self):\n",
    "        info_df = print(self.df.info(), '\\n')\n",
    "        return info_df\n",
    "    \n",
    "    # method to describe numerical columns\n",
    "    def data_describe(self):\n",
    "        num_col = self.df.describe()\n",
    "        return num_col"
   ]
  },
  {
   "cell_type": "code",
   "execution_count": 7,
   "metadata": {},
   "outputs": [
    {
     "name": "stdout",
     "output_type": "stream",
     "text": [
      "The DataFrame has:\n",
      "\t* 435 rows\n",
      "\t* 2 columns \n",
      "\n"
     ]
    }
   ],
   "source": [
    "# creating an instance of the class describer\n",
    "describe_df = Describer(df)\n",
    "\n",
    "# Viewing the shape of the data\n",
    "describe_df.shape()"
   ]
  },
  {
   "cell_type": "code",
   "execution_count": 8,
   "metadata": {},
   "outputs": [
    {
     "name": "stdout",
     "output_type": "stream",
     "text": [
      "Summary infomation on dataset\n",
      "______________________________\n",
      "<class 'pandas.core.frame.DataFrame'>\n",
      "RangeIndex: 435 entries, 0 to 434\n",
      "Data columns (total 2 columns):\n",
      " #   Column   Non-Null Count  Dtype \n",
      "---  ------   --------------  ----- \n",
      " 0   reviews  435 non-null    object\n",
      " 1   date     435 non-null    object\n",
      "dtypes: object(2)\n",
      "memory usage: 6.9+ KB\n",
      "None \n",
      "\n"
     ]
    }
   ],
   "source": [
    "# summary information\n",
    "print('Summary infomation on dataset')\n",
    "print('______________________________')\n",
    "describe_df.data_info()"
   ]
  },
  {
   "cell_type": "markdown",
   "metadata": {},
   "source": [
    "## **<span style=\"color: navy;\">Data Cleaning</span>**\n"
   ]
  },
  {
   "cell_type": "code",
   "execution_count": 9,
   "metadata": {},
   "outputs": [],
   "source": [
    "# Convert the date column to date time\n",
    "\n",
    "df['date'] = pd.to_datetime(df['date'].str.replace(r'(?<=\\d)(st|nd|rd|th)', '', regex=True))\n"
   ]
  },
  {
   "cell_type": "code",
   "execution_count": 10,
   "metadata": {},
   "outputs": [
    {
     "name": "stdout",
     "output_type": "stream",
     "text": [
      "<class 'pandas.core.frame.DataFrame'>\n",
      "RangeIndex: 435 entries, 0 to 434\n",
      "Data columns (total 2 columns):\n",
      " #   Column   Non-Null Count  Dtype         \n",
      "---  ------   --------------  -----         \n",
      " 0   reviews  435 non-null    object        \n",
      " 1   date     435 non-null    datetime64[ns]\n",
      "dtypes: datetime64[ns](1), object(1)\n",
      "memory usage: 6.9+ KB\n"
     ]
    }
   ],
   "source": [
    "df.info()"
   ]
  },
  {
   "cell_type": "markdown",
   "metadata": {},
   "source": [
    "The `date` column has been converted to its appropriate data type. "
   ]
  },
  {
   "cell_type": "markdown",
   "metadata": {},
   "source": [
    "## **<span style=\"color: navy;\">Data Understanding</span>**\n",
    "The data was scraped using BeautifulSoup from [this](https://www.airlinequality.com/airline-reviews/kenya-airways/) website. The website contains various reviews related to Air Travel. \n"
   ]
  },
  {
   "cell_type": "code",
   "execution_count": 11,
   "metadata": {},
   "outputs": [
    {
     "data": {
      "text/plain": [
       "150.29655172413794"
      ]
     },
     "execution_count": 11,
     "metadata": {},
     "output_type": "execute_result"
    }
   ],
   "source": [
    "# Function to calculate word count\n",
    "def word_count(text):\n",
    "    words = text.split()\n",
    "    return len(words)\n",
    "\n",
    "# Calculate word count for each review\n",
    "df['word_count'] = df['reviews'].apply(word_count)\n",
    "\n",
    "# Calculate and print the average word count\n",
    "avg_word_count = df['word_count'].mean()\n",
    "\n",
    "# Display the updated DataFrame\n",
    "avg_word_count"
   ]
  },
  {
   "cell_type": "code",
   "execution_count": 12,
   "metadata": {},
   "outputs": [
    {
     "data": {
      "image/png": "[encoded data removed]",
      "text/plain": [
       "<Figure size 800x400 with 1 Axes>"
      ]
     },
     "metadata": {},
     "output_type": "display_data"
    }
   ],
   "source": [
    "# Plot a histogram of the word counts\n",
    "fig = plt.figure(figsize=(8, 4))\n",
    "\n",
    "plt.hist(df['word_count'], bins=20, color='#967bb6', alpha=0.7, density=True) \n",
    "\n",
    "# KDE plot\n",
    "sns.kdeplot(df['word_count'], color='black', linewidth=2)\n",
    "\n",
    "plt.title('Distribution of Review Word Count', fontsize=16)\n",
    "plt.xlabel('Word Count', fontsize=12)\n",
    "plt.ylabel('Density', fontsize=12) \n",
    "plt.xticks(np.arange(0, 700, 50))\n",
    "plt.yticks(np.arange(0, 0.015, 0.001))\n",
    "\n",
    "plt.legend(labels=['KDE', 'Histogram'])\n",
    "\n",
    "plt.show()"
   ]
  },
  {
   "cell_type": "code",
   "execution_count": 13,
   "metadata": {},
   "outputs": [],
   "source": [
    "# Creates a new column that extracts the information on whether the trip is verified or not\n",
    "\n",
    "df['verified'] = df.reviews.str.contains(\"Trip Verified\")"
   ]
  },
  {
   "cell_type": "markdown",
   "metadata": {},
   "source": [
    "## **<span style=\"color: navy;\">Data Pre-Processing</span>**\n",
    "\n",
    "Data preprocessing in NLP sentiment analysis involves cleaning and structuring text data for accurate analysis. It includes steps like removing special characters, tokenizing text, eliminating common words, stemming or lemmatization, handling negations, and converting text into numerical vectors. This ensures that the text data is ready for machine learning models and results in more reliable sentiment analysis outcomes.\n",
    "<br> "
   ]
  },
  {
   "cell_type": "code",
   "execution_count": 14,
   "metadata": {},
   "outputs": [],
   "source": [
    "# Creates a new column that extracts the information on whether the trip is verified or not\n",
    "\n",
    "reviews_data = df.reviews.str.strip(\"Trip Verified |\")  \n",
    "corpus =[]\n",
    "# Instantiate the WordNetLemmatizer\n",
    "lemma = WordNetLemmatizer()\n",
    "\n",
    "#loop through each review, remove punctuations, small case it, join it and add it to corpus\n",
    "for rev in reviews_data:\n",
    "    rev = re.sub('[^a-zA-Z]',' ', rev)\n",
    "    rev = rev.lower()\n",
    "    rev = rev.split()\n",
    "    rev = [lemma.lemmatize(word) for word in rev if word not in set(stopwords.words(\"english\"))]\n",
    "    rev = \" \".join(rev)\n",
    "    corpus.append(rev)"
   ]
  },
  {
   "cell_type": "code",
   "execution_count": 15,
   "metadata": {},
   "outputs": [
    {
     "data": {
      "text/html": [
       "<div>\n",
       "<style scoped>\n",
       "    .dataframe tbody tr th:only-of-type {\n",
       "        vertical-align: middle;\n",
       "    }\n",
       "\n",
       "    .dataframe tbody tr th {\n",
       "        vertical-align: top;\n",
       "    }\n",
       "\n",
       "    .dataframe thead th {\n",
       "        text-align: right;\n",
       "    }\n",
       "</style>\n",
       "<table border=\"1\" class=\"dataframe\">\n",
       "  <thead>\n",
       "    <tr style=\"text-align: right;\">\n",
       "      <th></th>\n",
       "      <th>reviews</th>\n",
       "      <th>date</th>\n",
       "      <th>word_count</th>\n",
       "      <th>verified</th>\n",
       "    </tr>\n",
       "  </thead>\n",
       "  <tbody>\n",
       "    <tr>\n",
       "      <th>0</th>\n",
       "      <td>Dreadful airline - after emailing customer ser...</td>\n",
       "      <td>2023-08-28</td>\n",
       "      <td>52</td>\n",
       "      <td>True</td>\n",
       "    </tr>\n",
       "    <tr>\n",
       "      <th>1</th>\n",
       "      <td>Not Verified |  The lady at check-in was very ...</td>\n",
       "      <td>2023-08-26</td>\n",
       "      <td>135</td>\n",
       "      <td>False</td>\n",
       "    </tr>\n",
       "    <tr>\n",
       "      <th>2</th>\n",
       "      <td>Dismal from start to end. Not all of the staff...</td>\n",
       "      <td>2023-08-23</td>\n",
       "      <td>96</td>\n",
       "      <td>True</td>\n",
       "    </tr>\n",
       "    <tr>\n",
       "      <th>3</th>\n",
       "      <td>Not Verified | Airline was 1 hour late to boar...</td>\n",
       "      <td>2023-08-22</td>\n",
       "      <td>158</td>\n",
       "      <td>False</td>\n",
       "    </tr>\n",
       "    <tr>\n",
       "      <th>4</th>\n",
       "      <td>Kenya Airways has really disappointed me for a...</td>\n",
       "      <td>2023-08-19</td>\n",
       "      <td>55</td>\n",
       "      <td>True</td>\n",
       "    </tr>\n",
       "    <tr>\n",
       "      <th>5</th>\n",
       "      <td>JNB-NBO-AMS-ZRH on 14-15 August 23. Flights on...</td>\n",
       "      <td>2023-08-18</td>\n",
       "      <td>301</td>\n",
       "      <td>True</td>\n",
       "    </tr>\n",
       "    <tr>\n",
       "      <th>6</th>\n",
       "      <td>Officially the worlds worst airline. 3hr + del...</td>\n",
       "      <td>2023-08-07</td>\n",
       "      <td>113</td>\n",
       "      <td>True</td>\n",
       "    </tr>\n",
       "    <tr>\n",
       "      <th>7</th>\n",
       "      <td>Not Verified |  The worst service I have ever ...</td>\n",
       "      <td>2023-07-31</td>\n",
       "      <td>122</td>\n",
       "      <td>False</td>\n",
       "    </tr>\n",
       "  </tbody>\n",
       "</table>\n",
       "</div>"
      ],
      "text/plain": [
       "                                             reviews       date  word_count  \\\n",
       "0  Dreadful airline - after emailing customer ser... 2023-08-28          52   \n",
       "1  Not Verified |  The lady at check-in was very ... 2023-08-26         135   \n",
       "2  Dismal from start to end. Not all of the staff... 2023-08-23          96   \n",
       "3  Not Verified | Airline was 1 hour late to boar... 2023-08-22         158   \n",
       "4  Kenya Airways has really disappointed me for a... 2023-08-19          55   \n",
       "5  JNB-NBO-AMS-ZRH on 14-15 August 23. Flights on... 2023-08-18         301   \n",
       "6  Officially the worlds worst airline. 3hr + del... 2023-08-07         113   \n",
       "7  Not Verified |  The worst service I have ever ... 2023-07-31         122   \n",
       "\n",
       "   verified  \n",
       "0      True  \n",
       "1     False  \n",
       "2      True  \n",
       "3     False  \n",
       "4      True  \n",
       "5      True  \n",
       "6      True  \n",
       "7     False  "
      ]
     },
     "execution_count": 15,
     "metadata": {},
     "output_type": "execute_result"
    }
   ],
   "source": [
    "#Removing unwanted text(first text preprocessing)\n",
    "df.replace(re.compile(r'\\s*✅ Trip Verified \\|\\s*'), '', inplace=True)\n",
    "\n",
    "df.head(8)"
   ]
  },
  {
   "cell_type": "code",
   "execution_count": 16,
   "metadata": {},
   "outputs": [
    {
     "data": {
      "text/html": [
       "<div>\n",
       "<style scoped>\n",
       "    .dataframe tbody tr th:only-of-type {\n",
       "        vertical-align: middle;\n",
       "    }\n",
       "\n",
       "    .dataframe tbody tr th {\n",
       "        vertical-align: top;\n",
       "    }\n",
       "\n",
       "    .dataframe thead th {\n",
       "        text-align: right;\n",
       "    }\n",
       "</style>\n",
       "<table border=\"1\" class=\"dataframe\">\n",
       "  <thead>\n",
       "    <tr style=\"text-align: right;\">\n",
       "      <th></th>\n",
       "      <th>reviews</th>\n",
       "      <th>date</th>\n",
       "      <th>word_count</th>\n",
       "      <th>verified</th>\n",
       "      <th>corpus</th>\n",
       "    </tr>\n",
       "  </thead>\n",
       "  <tbody>\n",
       "    <tr>\n",
       "      <th>0</th>\n",
       "      <td>Dreadful airline - after emailing customer ser...</td>\n",
       "      <td>2023-08-28</td>\n",
       "      <td>52</td>\n",
       "      <td>True</td>\n",
       "      <td>trip verified dreadful airline emailing custom...</td>\n",
       "    </tr>\n",
       "    <tr>\n",
       "      <th>1</th>\n",
       "      <td>Not Verified |  The lady at check-in was very ...</td>\n",
       "      <td>2023-08-26</td>\n",
       "      <td>135</td>\n",
       "      <td>False</td>\n",
       "      <td>verified lady check rude insisted wanting chec...</td>\n",
       "    </tr>\n",
       "    <tr>\n",
       "      <th>2</th>\n",
       "      <td>Dismal from start to end. Not all of the staff...</td>\n",
       "      <td>2023-08-23</td>\n",
       "      <td>96</td>\n",
       "      <td>True</td>\n",
       "      <td>trip verified dismal start end staff crew rude...</td>\n",
       "    </tr>\n",
       "    <tr>\n",
       "      <th>3</th>\n",
       "      <td>Not Verified | Airline was 1 hour late to boar...</td>\n",
       "      <td>2023-08-22</td>\n",
       "      <td>158</td>\n",
       "      <td>False</td>\n",
       "      <td>verified airline hour late board passenger hou...</td>\n",
       "    </tr>\n",
       "    <tr>\n",
       "      <th>4</th>\n",
       "      <td>Kenya Airways has really disappointed me for a...</td>\n",
       "      <td>2023-08-19</td>\n",
       "      <td>55</td>\n",
       "      <td>True</td>\n",
       "      <td>trip verified kenya airway really disappointed...</td>\n",
       "    </tr>\n",
       "    <tr>\n",
       "      <th>...</th>\n",
       "      <td>...</td>\n",
       "      <td>...</td>\n",
       "      <td>...</td>\n",
       "      <td>...</td>\n",
       "      <td>...</td>\n",
       "    </tr>\n",
       "    <tr>\n",
       "      <th>430</th>\n",
       "      <td>JNB-NBO-JNB. This trip showed both the good an...</td>\n",
       "      <td>2011-07-18</td>\n",
       "      <td>113</td>\n",
       "      <td>False</td>\n",
       "      <td>jnb nbo jnb trip showed good average side airl...</td>\n",
       "    </tr>\n",
       "    <tr>\n",
       "      <th>431</th>\n",
       "      <td>Nairobi-London. Lounge in Nairobi was small an...</td>\n",
       "      <td>2011-07-17</td>\n",
       "      <td>279</td>\n",
       "      <td>False</td>\n",
       "      <td>nairobi london lounge nairobi small food poor ...</td>\n",
       "    </tr>\n",
       "    <tr>\n",
       "      <th>432</th>\n",
       "      <td>Nairobi-London. As me and my wife are both whe...</td>\n",
       "      <td>2011-07-11</td>\n",
       "      <td>177</td>\n",
       "      <td>False</td>\n",
       "      <td>nairobi london wife wheelchair passenger charg...</td>\n",
       "    </tr>\n",
       "    <tr>\n",
       "      <th>433</th>\n",
       "      <td>LUN-LLW in Economy. Adequate for a 1 hr trip. ...</td>\n",
       "      <td>2011-07-06</td>\n",
       "      <td>49</td>\n",
       "      <td>False</td>\n",
       "      <td>lun llw economy adequate hr trip fa friendly q...</td>\n",
       "    </tr>\n",
       "    <tr>\n",
       "      <th>434</th>\n",
       "      <td>I fly Kenya very often (almost once every 2 we...</td>\n",
       "      <td>2011-07-04</td>\n",
       "      <td>83</td>\n",
       "      <td>False</td>\n",
       "      <td>fly kenya often almost every week usually busi...</td>\n",
       "    </tr>\n",
       "  </tbody>\n",
       "</table>\n",
       "<p>435 rows × 5 columns</p>\n",
       "</div>"
      ],
      "text/plain": [
       "                                               reviews       date  word_count  \\\n",
       "0    Dreadful airline - after emailing customer ser... 2023-08-28          52   \n",
       "1    Not Verified |  The lady at check-in was very ... 2023-08-26         135   \n",
       "2    Dismal from start to end. Not all of the staff... 2023-08-23          96   \n",
       "3    Not Verified | Airline was 1 hour late to boar... 2023-08-22         158   \n",
       "4    Kenya Airways has really disappointed me for a... 2023-08-19          55   \n",
       "..                                                 ...        ...         ...   \n",
       "430  JNB-NBO-JNB. This trip showed both the good an... 2011-07-18         113   \n",
       "431  Nairobi-London. Lounge in Nairobi was small an... 2011-07-17         279   \n",
       "432  Nairobi-London. As me and my wife are both whe... 2011-07-11         177   \n",
       "433  LUN-LLW in Economy. Adequate for a 1 hr trip. ... 2011-07-06          49   \n",
       "434  I fly Kenya very often (almost once every 2 we... 2011-07-04          83   \n",
       "\n",
       "     verified                                             corpus  \n",
       "0        True  trip verified dreadful airline emailing custom...  \n",
       "1       False  verified lady check rude insisted wanting chec...  \n",
       "2        True  trip verified dismal start end staff crew rude...  \n",
       "3       False  verified airline hour late board passenger hou...  \n",
       "4        True  trip verified kenya airway really disappointed...  \n",
       "..        ...                                                ...  \n",
       "430     False  jnb nbo jnb trip showed good average side airl...  \n",
       "431     False  nairobi london lounge nairobi small food poor ...  \n",
       "432     False  nairobi london wife wheelchair passenger charg...  \n",
       "433     False  lun llw economy adequate hr trip fa friendly q...  \n",
       "434     False  fly kenya often almost every week usually busi...  \n",
       "\n",
       "[435 rows x 5 columns]"
      ]
     },
     "execution_count": 16,
     "metadata": {},
     "output_type": "execute_result"
    }
   ],
   "source": [
    "# add the corpus to the original dataframe\n",
    "\n",
    "df['corpus'] = corpus\n",
    "df"
   ]
  },
  {
   "cell_type": "code",
   "execution_count": 17,
   "metadata": {},
   "outputs": [
    {
     "data": {
      "text/html": [
       "<div>\n",
       "<style scoped>\n",
       "    .dataframe tbody tr th:only-of-type {\n",
       "        vertical-align: middle;\n",
       "    }\n",
       "\n",
       "    .dataframe tbody tr th {\n",
       "        vertical-align: top;\n",
       "    }\n",
       "\n",
       "    .dataframe thead th {\n",
       "        text-align: right;\n",
       "    }\n",
       "</style>\n",
       "<table border=\"1\" class=\"dataframe\">\n",
       "  <thead>\n",
       "    <tr style=\"text-align: right;\">\n",
       "      <th></th>\n",
       "      <th>reviews</th>\n",
       "      <th>date</th>\n",
       "      <th>word_count</th>\n",
       "      <th>verified</th>\n",
       "      <th>corpus</th>\n",
       "      <th>sentiment</th>\n",
       "    </tr>\n",
       "  </thead>\n",
       "  <tbody>\n",
       "    <tr>\n",
       "      <th>0</th>\n",
       "      <td>Dreadful airline - after emailing customer ser...</td>\n",
       "      <td>2023-08-28</td>\n",
       "      <td>52</td>\n",
       "      <td>True</td>\n",
       "      <td>trip verified dreadful airline emailing custom...</td>\n",
       "      <td>-0.6808</td>\n",
       "    </tr>\n",
       "    <tr>\n",
       "      <th>1</th>\n",
       "      <td>Not Verified |  The lady at check-in was very ...</td>\n",
       "      <td>2023-08-26</td>\n",
       "      <td>135</td>\n",
       "      <td>False</td>\n",
       "      <td>verified lady check rude insisted wanting chec...</td>\n",
       "      <td>-0.8909</td>\n",
       "    </tr>\n",
       "    <tr>\n",
       "      <th>2</th>\n",
       "      <td>Dismal from start to end. Not all of the staff...</td>\n",
       "      <td>2023-08-23</td>\n",
       "      <td>96</td>\n",
       "      <td>True</td>\n",
       "      <td>trip verified dismal start end staff crew rude...</td>\n",
       "      <td>-0.9751</td>\n",
       "    </tr>\n",
       "    <tr>\n",
       "      <th>3</th>\n",
       "      <td>Not Verified | Airline was 1 hour late to boar...</td>\n",
       "      <td>2023-08-22</td>\n",
       "      <td>158</td>\n",
       "      <td>False</td>\n",
       "      <td>verified airline hour late board passenger hou...</td>\n",
       "      <td>-0.8899</td>\n",
       "    </tr>\n",
       "    <tr>\n",
       "      <th>4</th>\n",
       "      <td>Kenya Airways has really disappointed me for a...</td>\n",
       "      <td>2023-08-19</td>\n",
       "      <td>55</td>\n",
       "      <td>True</td>\n",
       "      <td>trip verified kenya airway really disappointed...</td>\n",
       "      <td>-0.2952</td>\n",
       "    </tr>\n",
       "    <tr>\n",
       "      <th>...</th>\n",
       "      <td>...</td>\n",
       "      <td>...</td>\n",
       "      <td>...</td>\n",
       "      <td>...</td>\n",
       "      <td>...</td>\n",
       "      <td>...</td>\n",
       "    </tr>\n",
       "    <tr>\n",
       "      <th>430</th>\n",
       "      <td>JNB-NBO-JNB. This trip showed both the good an...</td>\n",
       "      <td>2011-07-18</td>\n",
       "      <td>113</td>\n",
       "      <td>False</td>\n",
       "      <td>jnb nbo jnb trip showed good average side airl...</td>\n",
       "      <td>0.8201</td>\n",
       "    </tr>\n",
       "    <tr>\n",
       "      <th>431</th>\n",
       "      <td>Nairobi-London. Lounge in Nairobi was small an...</td>\n",
       "      <td>2011-07-17</td>\n",
       "      <td>279</td>\n",
       "      <td>False</td>\n",
       "      <td>nairobi london lounge nairobi small food poor ...</td>\n",
       "      <td>0.9826</td>\n",
       "    </tr>\n",
       "    <tr>\n",
       "      <th>432</th>\n",
       "      <td>Nairobi-London. As me and my wife are both whe...</td>\n",
       "      <td>2011-07-11</td>\n",
       "      <td>177</td>\n",
       "      <td>False</td>\n",
       "      <td>nairobi london wife wheelchair passenger charg...</td>\n",
       "      <td>0.9485</td>\n",
       "    </tr>\n",
       "    <tr>\n",
       "      <th>433</th>\n",
       "      <td>LUN-LLW in Economy. Adequate for a 1 hr trip. ...</td>\n",
       "      <td>2011-07-06</td>\n",
       "      <td>49</td>\n",
       "      <td>False</td>\n",
       "      <td>lun llw economy adequate hr trip fa friendly q...</td>\n",
       "      <td>0.6808</td>\n",
       "    </tr>\n",
       "    <tr>\n",
       "      <th>434</th>\n",
       "      <td>I fly Kenya very often (almost once every 2 we...</td>\n",
       "      <td>2011-07-04</td>\n",
       "      <td>83</td>\n",
       "      <td>False</td>\n",
       "      <td>fly kenya often almost every week usually busi...</td>\n",
       "      <td>0.4921</td>\n",
       "    </tr>\n",
       "  </tbody>\n",
       "</table>\n",
       "<p>435 rows × 6 columns</p>\n",
       "</div>"
      ],
      "text/plain": [
       "                                               reviews       date  word_count  \\\n",
       "0    Dreadful airline - after emailing customer ser... 2023-08-28          52   \n",
       "1    Not Verified |  The lady at check-in was very ... 2023-08-26         135   \n",
       "2    Dismal from start to end. Not all of the staff... 2023-08-23          96   \n",
       "3    Not Verified | Airline was 1 hour late to boar... 2023-08-22         158   \n",
       "4    Kenya Airways has really disappointed me for a... 2023-08-19          55   \n",
       "..                                                 ...        ...         ...   \n",
       "430  JNB-NBO-JNB. This trip showed both the good an... 2011-07-18         113   \n",
       "431  Nairobi-London. Lounge in Nairobi was small an... 2011-07-17         279   \n",
       "432  Nairobi-London. As me and my wife are both whe... 2011-07-11         177   \n",
       "433  LUN-LLW in Economy. Adequate for a 1 hr trip. ... 2011-07-06          49   \n",
       "434  I fly Kenya very often (almost once every 2 we... 2011-07-04          83   \n",
       "\n",
       "     verified                                             corpus  sentiment  \n",
       "0        True  trip verified dreadful airline emailing custom...    -0.6808  \n",
       "1       False  verified lady check rude insisted wanting chec...    -0.8909  \n",
       "2        True  trip verified dismal start end staff crew rude...    -0.9751  \n",
       "3       False  verified airline hour late board passenger hou...    -0.8899  \n",
       "4        True  trip verified kenya airway really disappointed...    -0.2952  \n",
       "..        ...                                                ...        ...  \n",
       "430     False  jnb nbo jnb trip showed good average side airl...     0.8201  \n",
       "431     False  nairobi london lounge nairobi small food poor ...     0.9826  \n",
       "432     False  nairobi london wife wheelchair passenger charg...     0.9485  \n",
       "433     False  lun llw economy adequate hr trip fa friendly q...     0.6808  \n",
       "434     False  fly kenya often almost every week usually busi...     0.4921  \n",
       "\n",
       "[435 rows x 6 columns]"
      ]
     },
     "execution_count": 17,
     "metadata": {},
     "output_type": "execute_result"
    }
   ],
   "source": [
    "# an instance of SentimentIntensityAnalyzer\n",
    "sentiment_analyzer = vader.SentimentIntensityAnalyzer()\n",
    "\n",
    "# a new column named 'sentiment'\n",
    "df['sentiment'] = df['reviews'].apply(\n",
    "    lambda review: sentiment_analyzer.polarity_scores(review)['compound']\n",
    "    )\n",
    "df"
   ]
  },
  {
   "cell_type": "code",
   "execution_count": 18,
   "metadata": {},
   "outputs": [
    {
     "data": {
      "text/html": [
       "<div>\n",
       "<style scoped>\n",
       "    .dataframe tbody tr th:only-of-type {\n",
       "        vertical-align: middle;\n",
       "    }\n",
       "\n",
       "    .dataframe tbody tr th {\n",
       "        vertical-align: top;\n",
       "    }\n",
       "\n",
       "    .dataframe thead th {\n",
       "        text-align: right;\n",
       "    }\n",
       "</style>\n",
       "<table border=\"1\" class=\"dataframe\">\n",
       "  <thead>\n",
       "    <tr style=\"text-align: right;\">\n",
       "      <th></th>\n",
       "      <th>reviews</th>\n",
       "      <th>date</th>\n",
       "      <th>word_count</th>\n",
       "      <th>verified</th>\n",
       "      <th>corpus</th>\n",
       "      <th>sentiment</th>\n",
       "      <th>sentiment_type</th>\n",
       "    </tr>\n",
       "  </thead>\n",
       "  <tbody>\n",
       "    <tr>\n",
       "      <th>0</th>\n",
       "      <td>Dreadful airline - after emailing customer ser...</td>\n",
       "      <td>2023-08-28</td>\n",
       "      <td>52</td>\n",
       "      <td>True</td>\n",
       "      <td>trip verified dreadful airline emailing custom...</td>\n",
       "      <td>-0.6808</td>\n",
       "      <td>negative</td>\n",
       "    </tr>\n",
       "    <tr>\n",
       "      <th>1</th>\n",
       "      <td>Not Verified |  The lady at check-in was very ...</td>\n",
       "      <td>2023-08-26</td>\n",
       "      <td>135</td>\n",
       "      <td>False</td>\n",
       "      <td>verified lady check rude insisted wanting chec...</td>\n",
       "      <td>-0.8909</td>\n",
       "      <td>negative</td>\n",
       "    </tr>\n",
       "    <tr>\n",
       "      <th>2</th>\n",
       "      <td>Dismal from start to end. Not all of the staff...</td>\n",
       "      <td>2023-08-23</td>\n",
       "      <td>96</td>\n",
       "      <td>True</td>\n",
       "      <td>trip verified dismal start end staff crew rude...</td>\n",
       "      <td>-0.9751</td>\n",
       "      <td>negative</td>\n",
       "    </tr>\n",
       "    <tr>\n",
       "      <th>3</th>\n",
       "      <td>Not Verified | Airline was 1 hour late to boar...</td>\n",
       "      <td>2023-08-22</td>\n",
       "      <td>158</td>\n",
       "      <td>False</td>\n",
       "      <td>verified airline hour late board passenger hou...</td>\n",
       "      <td>-0.8899</td>\n",
       "      <td>negative</td>\n",
       "    </tr>\n",
       "    <tr>\n",
       "      <th>4</th>\n",
       "      <td>Kenya Airways has really disappointed me for a...</td>\n",
       "      <td>2023-08-19</td>\n",
       "      <td>55</td>\n",
       "      <td>True</td>\n",
       "      <td>trip verified kenya airway really disappointed...</td>\n",
       "      <td>-0.2952</td>\n",
       "      <td>negative</td>\n",
       "    </tr>\n",
       "    <tr>\n",
       "      <th>...</th>\n",
       "      <td>...</td>\n",
       "      <td>...</td>\n",
       "      <td>...</td>\n",
       "      <td>...</td>\n",
       "      <td>...</td>\n",
       "      <td>...</td>\n",
       "      <td>...</td>\n",
       "    </tr>\n",
       "    <tr>\n",
       "      <th>430</th>\n",
       "      <td>JNB-NBO-JNB. This trip showed both the good an...</td>\n",
       "      <td>2011-07-18</td>\n",
       "      <td>113</td>\n",
       "      <td>False</td>\n",
       "      <td>jnb nbo jnb trip showed good average side airl...</td>\n",
       "      <td>0.8201</td>\n",
       "      <td>positive</td>\n",
       "    </tr>\n",
       "    <tr>\n",
       "      <th>431</th>\n",
       "      <td>Nairobi-London. Lounge in Nairobi was small an...</td>\n",
       "      <td>2011-07-17</td>\n",
       "      <td>279</td>\n",
       "      <td>False</td>\n",
       "      <td>nairobi london lounge nairobi small food poor ...</td>\n",
       "      <td>0.9826</td>\n",
       "      <td>positive</td>\n",
       "    </tr>\n",
       "    <tr>\n",
       "      <th>432</th>\n",
       "      <td>Nairobi-London. As me and my wife are both whe...</td>\n",
       "      <td>2011-07-11</td>\n",
       "      <td>177</td>\n",
       "      <td>False</td>\n",
       "      <td>nairobi london wife wheelchair passenger charg...</td>\n",
       "      <td>0.9485</td>\n",
       "      <td>positive</td>\n",
       "    </tr>\n",
       "    <tr>\n",
       "      <th>433</th>\n",
       "      <td>LUN-LLW in Economy. Adequate for a 1 hr trip. ...</td>\n",
       "      <td>2011-07-06</td>\n",
       "      <td>49</td>\n",
       "      <td>False</td>\n",
       "      <td>lun llw economy adequate hr trip fa friendly q...</td>\n",
       "      <td>0.6808</td>\n",
       "      <td>positive</td>\n",
       "    </tr>\n",
       "    <tr>\n",
       "      <th>434</th>\n",
       "      <td>I fly Kenya very often (almost once every 2 we...</td>\n",
       "      <td>2011-07-04</td>\n",
       "      <td>83</td>\n",
       "      <td>False</td>\n",
       "      <td>fly kenya often almost every week usually busi...</td>\n",
       "      <td>0.4921</td>\n",
       "      <td>positive</td>\n",
       "    </tr>\n",
       "  </tbody>\n",
       "</table>\n",
       "<p>435 rows × 7 columns</p>\n",
       "</div>"
      ],
      "text/plain": [
       "                                               reviews       date  word_count  \\\n",
       "0    Dreadful airline - after emailing customer ser... 2023-08-28          52   \n",
       "1    Not Verified |  The lady at check-in was very ... 2023-08-26         135   \n",
       "2    Dismal from start to end. Not all of the staff... 2023-08-23          96   \n",
       "3    Not Verified | Airline was 1 hour late to boar... 2023-08-22         158   \n",
       "4    Kenya Airways has really disappointed me for a... 2023-08-19          55   \n",
       "..                                                 ...        ...         ...   \n",
       "430  JNB-NBO-JNB. This trip showed both the good an... 2011-07-18         113   \n",
       "431  Nairobi-London. Lounge in Nairobi was small an... 2011-07-17         279   \n",
       "432  Nairobi-London. As me and my wife are both whe... 2011-07-11         177   \n",
       "433  LUN-LLW in Economy. Adequate for a 1 hr trip. ... 2011-07-06          49   \n",
       "434  I fly Kenya very often (almost once every 2 we... 2011-07-04          83   \n",
       "\n",
       "     verified                                             corpus  sentiment  \\\n",
       "0        True  trip verified dreadful airline emailing custom...    -0.6808   \n",
       "1       False  verified lady check rude insisted wanting chec...    -0.8909   \n",
       "2        True  trip verified dismal start end staff crew rude...    -0.9751   \n",
       "3       False  verified airline hour late board passenger hou...    -0.8899   \n",
       "4        True  trip verified kenya airway really disappointed...    -0.2952   \n",
       "..        ...                                                ...        ...   \n",
       "430     False  jnb nbo jnb trip showed good average side airl...     0.8201   \n",
       "431     False  nairobi london lounge nairobi small food poor ...     0.9826   \n",
       "432     False  nairobi london wife wheelchair passenger charg...     0.9485   \n",
       "433     False  lun llw economy adequate hr trip fa friendly q...     0.6808   \n",
       "434     False  fly kenya often almost every week usually busi...     0.4921   \n",
       "\n",
       "    sentiment_type  \n",
       "0         negative  \n",
       "1         negative  \n",
       "2         negative  \n",
       "3         negative  \n",
       "4         negative  \n",
       "..             ...  \n",
       "430       positive  \n",
       "431       positive  \n",
       "432       positive  \n",
       "433       positive  \n",
       "434       positive  \n",
       "\n",
       "[435 rows x 7 columns]"
      ]
     },
     "execution_count": 18,
     "metadata": {},
     "output_type": "execute_result"
    }
   ],
   "source": [
    "# Creating another new column called 'sentiment_type' that contains the type of sentiment of each review using nltk\n",
    "# for each sentiment score in the 'sentiment' column\n",
    "df['sentiment_type'] = df['sentiment'].apply(\n",
    "    lambda score: 'positive' if score > 0 else ('negative' if score < 0 else 'neutral')\n",
    "    )\n",
    "df "
   ]
  },
  {
   "cell_type": "markdown",
   "metadata": {},
   "source": [
    "## **<span style=\"color: navy;\">Exploratory Data Analysis (EDA)**</span>\n",
    "\n",
    "\n",
    "In this stage **EDA** is also done on the dataset to gain more insights on the data that is available. "
   ]
  },
  {
   "cell_type": "code",
   "execution_count": 19,
   "metadata": {},
   "outputs": [
    {
     "data": {
      "image/png": "[encoded data removed]",
      "text/plain": [
       "<Figure size 600x400 with 1 Axes>"
      ]
     },
     "metadata": {},
     "output_type": "display_data"
    }
   ],
   "source": [
    "# Calculate the percentage of each type of sentiment score\n",
    "sent_type_percentages = df['sentiment_type'].value_counts(normalize=True) * 100\n",
    "\n",
    "# Define custom colors for the bars\n",
    "\n",
    "bar_colors = ['#3498db', '#9b59b6']  \n",
    "\n",
    "# Plot the sentiment percentages as a bar plot\n",
    "fig, ax = plt.subplots(figsize=(6, 4))\n",
    "sent_type_percentages.plot(kind='bar', color=bar_colors, ax=ax)\n",
    "\n",
    "# Add data labels on the bars with two decimal points\n",
    "for p in ax.patches:\n",
    "    ax.annotate(f'{p.get_height():.0f}%', \n",
    "                (p.get_x() + p.get_width() / 2., p.get_height()), \n",
    "                ha='left', va='baseline', fontsize=8, color='black')\n",
    "\n",
    "ax.set_title('Sentiment Distribution', fontsize=16)\n",
    "ax.set_xlabel('Sentiment Type', fontsize=12)\n",
    "ax.set_ylabel('Percentage', fontsize=12)\n",
    "ax.set_xticklabels(sent_type_percentages.index, rotation=0)\n",
    "ax.set_yticks([])  # Hide y-axis ticks\n",
    "\n",
    "plt.show()"
   ]
  },
  {
   "cell_type": "markdown",
   "metadata": {},
   "source": [
    "Negative reviews account for 51% of the dataset, and positive reviews account for 49% of the dataset. <br>Understanding what is the reason behind the negative reviews is the main concern of this project."
   ]
  },
  {
   "cell_type": "code",
   "execution_count": 20,
   "metadata": {},
   "outputs": [
    {
     "data": {
      "image/png": "[encoded data removed]",
      "text/plain": [
       "<Figure size 640x480 with 1 Axes>"
      ]
     },
     "metadata": {},
     "output_type": "display_data"
    }
   ],
   "source": [
    "# Calculate the counts of verified and unverified reviews\n",
    "verified_counts = df['verified'].value_counts(normalize=True)*100\n",
    "\n",
    "# Define custom colors for the bars\n",
    "bar_colors = ['#3498db', '#9b59b6'] \n",
    "\n",
    "# Create the bar chart with custom colors\n",
    "plt.bar(verified_counts.index, verified_counts.values, color=bar_colors)\n",
    "\n",
    "# Add labels and title\n",
    "plt.xlabel('Verification Status')\n",
    "plt.ylabel('Count')\n",
    "plt.title('Distribution of Verified Reviews')\n",
    "\n",
    "# Customize x-axis tick labels\n",
    "plt.xticks(verified_counts.index, ['Verified', 'Unverified'])\n",
    "\n",
    "# Show the plot\n",
    "plt.show()"
   ]
  },
  {
   "cell_type": "markdown",
   "metadata": {},
   "source": [
    "Majority of the reviews have been verified. "
   ]
  },
  {
   "cell_type": "code",
   "execution_count": 21,
   "metadata": {},
   "outputs": [],
   "source": [
    "# Cleaned data \n",
    "df.to_csv( cwd + \"/data/reviews_cleaned.csv\")"
   ]
  },
  {
   "cell_type": "code",
   "execution_count": 22,
   "metadata": {},
   "outputs": [
    {
     "data": {
      "application/vnd.plotly.v1+json": {
       "config": {
        "plotlyServerURL": "https://plot.ly"
       },
       "data": [
        {
         "hovertemplate": "date=%{x}<br>index=%{y}<extra></extra>",
         "legendgroup": "",
         "line": {
          "color": "#636efa",
          "dash": "solid"
         },
         "marker": {
          "symbol": "circle"
         },
         "mode": "lines",
         "name": "",
         "orientation": "h",
         "showlegend": false,
         "type": "scatter",
         "x": [
          "2023-08-28T00:00:00",
          "2023-08-26T00:00:00",
          "2023-08-23T00:00:00",
          "2023-08-22T00:00:00",
          "2023-08-19T00:00:00",
          "2023-08-18T00:00:00",
          "2023-08-07T00:00:00",
          "2023-07-31T00:00:00",
          "2023-07-27T00:00:00",
          "2023-07-22T00:00:00",
          "2023-07-08T00:00:00",
          "2023-07-06T00:00:00",
          "2023-07-04T00:00:00",
          "2023-07-03T00:00:00",
          "2023-07-01T00:00:00",
          "2023-06-30T00:00:00",
          "2023-06-25T00:00:00",
          "2023-06-20T00:00:00",
          "2023-06-08T00:00:00",
          "2023-06-03T00:00:00",
          "2023-05-26T00:00:00",
          "2023-04-30T00:00:00",
          "2023-04-01T00:00:00",
          "2023-03-29T00:00:00",
          "2023-03-28T00:00:00",
          "2023-03-26T00:00:00",
          "2023-03-24T00:00:00",
          "2023-03-17T00:00:00",
          "2023-03-15T00:00:00",
          "2023-03-15T00:00:00",
          "2023-03-14T00:00:00",
          "2023-03-05T00:00:00",
          "2023-02-25T00:00:00",
          "2023-02-25T00:00:00",
          "2023-02-22T00:00:00",
          "2023-02-18T00:00:00",
          "2023-02-13T00:00:00",
          "2023-02-12T00:00:00",
          "2023-01-21T00:00:00",
          "2023-01-14T00:00:00",
          "2023-01-09T00:00:00",
          "2023-01-09T00:00:00",
          "2022-12-27T00:00:00",
          "2022-12-13T00:00:00",
          "2022-12-12T00:00:00",
          "2022-12-11T00:00:00",
          "2022-11-14T00:00:00",
          "2022-10-24T00:00:00",
          "2022-10-03T00:00:00",
          "2022-10-02T00:00:00",
          "2022-09-22T00:00:00",
          "2022-09-14T00:00:00",
          "2022-09-01T00:00:00",
          "2022-07-30T00:00:00",
          "2022-07-22T00:00:00",
          "2022-07-14T00:00:00",
          "2022-07-11T00:00:00",
          "2022-07-10T00:00:00",
          "2022-07-09T00:00:00",
          "2022-07-01T00:00:00",
          "2022-06-19T00:00:00",
          "2022-06-18T00:00:00",
          "2022-06-14T00:00:00",
          "2022-05-20T00:00:00",
          "2022-05-20T00:00:00",
          "2022-05-10T00:00:00",
          "2022-05-02T00:00:00",
          "2022-04-29T00:00:00",
          "2022-04-24T00:00:00",
          "2022-03-21T00:00:00",
          "2022-03-15T00:00:00",
          "2022-03-02T00:00:00",
          "2022-03-02T00:00:00",
          "2022-02-22T00:00:00",
          "2022-02-22T00:00:00",
          "2021-12-08T00:00:00",
          "2021-12-06T00:00:00",
          "2021-11-09T00:00:00",
          "2021-11-09T00:00:00",
          "2021-09-20T00:00:00",
          "2021-08-26T00:00:00",
          "2021-06-20T00:00:00",
          "2021-04-10T00:00:00",
          "2021-03-28T00:00:00",
          "2021-03-21T00:00:00",
          "2021-03-20T00:00:00",
          "2021-03-18T00:00:00",
          "2021-02-23T00:00:00",
          "2021-01-19T00:00:00",
          "2020-11-15T00:00:00",
          "2020-11-10T00:00:00",
          "2020-09-01T00:00:00",
          "2020-08-11T00:00:00",
          "2020-05-19T00:00:00",
          "2020-05-06T00:00:00",
          "2020-05-01T00:00:00",
          "2020-04-17T00:00:00",
          "2020-04-01T00:00:00",
          "2020-03-17T00:00:00",
          "2020-03-17T00:00:00",
          "2020-02-15T00:00:00",
          "2020-02-07T00:00:00",
          "2020-02-07T00:00:00",
          "2020-01-08T00:00:00",
          "2020-01-06T00:00:00",
          "2020-01-06T00:00:00",
          "2020-01-05T00:00:00",
          "2019-12-21T00:00:00",
          "2019-12-18T00:00:00",
          "2019-12-09T00:00:00",
          "2019-11-25T00:00:00",
          "2019-11-25T00:00:00",
          "2019-11-24T00:00:00",
          "2019-11-21T00:00:00",
          "2019-11-15T00:00:00",
          "2019-11-11T00:00:00",
          "2019-11-05T00:00:00",
          "2019-11-03T00:00:00",
          "2019-11-03T00:00:00",
          "2019-10-26T00:00:00",
          "2019-10-24T00:00:00",
          "2019-10-17T00:00:00",
          "2019-10-14T00:00:00",
          "2019-10-13T00:00:00",
          "2019-10-10T00:00:00",
          "2019-10-06T00:00:00",
          "2019-10-04T00:00:00",
          "2019-10-01T00:00:00",
          "2019-09-18T00:00:00",
          "2019-09-14T00:00:00",
          "2019-09-09T00:00:00",
          "2019-09-09T00:00:00",
          "2019-09-08T00:00:00",
          "2019-09-04T00:00:00",
          "2019-09-03T00:00:00",
          "2019-09-02T00:00:00",
          "2019-08-28T00:00:00",
          "2019-08-23T00:00:00",
          "2019-08-02T00:00:00",
          "2019-07-27T00:00:00",
          "2019-07-01T00:00:00",
          "2019-06-16T00:00:00",
          "2019-06-11T00:00:00",
          "2019-05-18T00:00:00",
          "2019-05-18T00:00:00",
          "2019-05-06T00:00:00",
          "2019-04-25T00:00:00",
          "2019-04-19T00:00:00",
          "2019-04-05T00:00:00",
          "2019-04-05T00:00:00",
          "2019-04-02T00:00:00",
          "2019-03-03T00:00:00",
          "2019-02-24T00:00:00",
          "2019-02-03T00:00:00",
          "2019-02-03T00:00:00",
          "2019-01-25T00:00:00",
          "2019-01-14T00:00:00",
          "2019-01-08T00:00:00",
          "2019-01-06T00:00:00",
          "2019-01-02T00:00:00",
          "2019-01-01T00:00:00",
          "2018-12-21T00:00:00",
          "2018-12-17T00:00:00",
          "2018-12-11T00:00:00",
          "2018-12-07T00:00:00",
          "2018-11-27T00:00:00",
          "2018-10-27T00:00:00",
          "2018-10-22T00:00:00",
          "2018-10-10T00:00:00",
          "2018-09-16T00:00:00",
          "2018-09-06T00:00:00",
          "2018-08-28T00:00:00",
          "2018-08-28T00:00:00",
          "2018-08-01T00:00:00",
          "2018-07-19T00:00:00",
          "2018-07-11T00:00:00",
          "2018-07-10T00:00:00",
          "2018-07-09T00:00:00",
          "2018-06-14T00:00:00",
          "2018-06-10T00:00:00",
          "2018-06-05T00:00:00",
          "2018-05-26T00:00:00",
          "2018-05-14T00:00:00",
          "2018-05-11T00:00:00",
          "2018-04-11T00:00:00",
          "2018-04-04T00:00:00",
          "2018-04-03T00:00:00",
          "2018-03-20T00:00:00",
          "2018-03-19T00:00:00",
          "2018-03-02T00:00:00",
          "2018-03-02T00:00:00",
          "2018-02-27T00:00:00",
          "2018-02-10T00:00:00",
          "2018-01-19T00:00:00",
          "2018-01-09T00:00:00",
          "2017-12-29T00:00:00",
          "2017-12-27T00:00:00",
          "2017-12-13T00:00:00",
          "2017-12-13T00:00:00",
          "2017-12-07T00:00:00",
          "2017-10-31T00:00:00",
          "2017-10-17T00:00:00",
          "2017-10-11T00:00:00",
          "2017-10-04T00:00:00",
          "2017-09-27T00:00:00",
          "2017-09-27T00:00:00",
          "2017-09-06T00:00:00",
          "2017-09-04T00:00:00",
          "2017-09-04T00:00:00",
          "2017-07-21T00:00:00",
          "2017-07-21T00:00:00",
          "2017-07-17T00:00:00",
          "2017-07-05T00:00:00",
          "2017-04-30T00:00:00",
          "2017-04-29T00:00:00",
          "2017-04-19T00:00:00",
          "2017-04-19T00:00:00",
          "2017-04-16T00:00:00",
          "2017-04-13T00:00:00",
          "2017-04-09T00:00:00",
          "2017-03-26T00:00:00",
          "2017-03-14T00:00:00",
          "2017-03-10T00:00:00",
          "2017-03-02T00:00:00",
          "2017-02-14T00:00:00",
          "2017-02-12T00:00:00",
          "2017-01-24T00:00:00",
          "2017-01-23T00:00:00",
          "2017-01-18T00:00:00",
          "2017-01-17T00:00:00",
          "2016-12-30T00:00:00",
          "2016-12-19T00:00:00",
          "2016-12-19T00:00:00",
          "2016-11-21T00:00:00",
          "2016-10-31T00:00:00",
          "2016-10-05T00:00:00",
          "2016-10-05T00:00:00",
          "2016-09-22T00:00:00",
          "2016-09-12T00:00:00",
          "2016-09-08T00:00:00",
          "2016-08-29T00:00:00",
          "2016-08-26T00:00:00",
          "2016-08-25T00:00:00",
          "2016-08-23T00:00:00",
          "2016-06-23T00:00:00",
          "2016-06-19T00:00:00",
          "2016-06-14T00:00:00",
          "2016-05-20T00:00:00",
          "2016-03-29T00:00:00",
          "2016-03-20T00:00:00",
          "2016-03-08T00:00:00",
          "2016-03-05T00:00:00",
          "2016-03-01T00:00:00",
          "2016-02-14T00:00:00",
          "2016-02-12T00:00:00",
          "2016-02-03T00:00:00",
          "2016-01-23T00:00:00",
          "2016-01-04T00:00:00",
          "2015-12-30T00:00:00",
          "2015-11-25T00:00:00",
          "2015-11-06T00:00:00",
          "2015-10-08T00:00:00",
          "2015-09-22T00:00:00",
          "2015-09-20T00:00:00",
          "2015-08-14T00:00:00",
          "2015-07-21T00:00:00",
          "2015-07-11T00:00:00",
          "2015-07-06T00:00:00",
          "2015-05-20T00:00:00",
          "2015-05-11T00:00:00",
          "2015-05-11T00:00:00",
          "2015-04-19T00:00:00",
          "2015-04-16T00:00:00",
          "2015-03-28T00:00:00",
          "2015-03-04T00:00:00",
          "2015-03-04T00:00:00",
          "2015-02-12T00:00:00",
          "2015-01-26T00:00:00",
          "2015-01-19T00:00:00",
          "2015-01-19T00:00:00",
          "2015-01-19T00:00:00",
          "2015-01-14T00:00:00",
          "2015-01-05T00:00:00",
          "2014-12-29T00:00:00",
          "2014-12-22T00:00:00",
          "2014-12-22T00:00:00",
          "2014-12-18T00:00:00",
          "2014-12-04T00:00:00",
          "2014-11-06T00:00:00",
          "2014-10-22T00:00:00",
          "2014-09-14T00:00:00",
          "2014-09-10T00:00:00",
          "2014-08-28T00:00:00",
          "2014-08-26T00:00:00",
          "2014-08-18T00:00:00",
          "2014-08-14T00:00:00",
          "2014-08-06T00:00:00",
          "2014-07-29T00:00:00",
          "2014-07-10T00:00:00",
          "2014-07-10T00:00:00",
          "2014-07-06T00:00:00",
          "2014-07-06T00:00:00",
          "2014-06-30T00:00:00",
          "2014-06-25T00:00:00",
          "2014-06-16T00:00:00",
          "2014-06-10T00:00:00",
          "2014-06-02T00:00:00",
          "2014-05-29T00:00:00",
          "2014-05-26T00:00:00",
          "2014-05-25T00:00:00",
          "2014-05-07T00:00:00",
          "2014-04-30T00:00:00",
          "2014-04-13T00:00:00",
          "2014-04-06T00:00:00",
          "2014-04-01T00:00:00",
          "2014-03-10T00:00:00",
          "2014-03-10T00:00:00",
          "2014-03-04T00:00:00",
          "2014-01-30T00:00:00",
          "2014-01-13T00:00:00",
          "2014-01-13T00:00:00",
          "2014-01-13T00:00:00",
          "2014-01-06T00:00:00",
          "2014-01-06T00:00:00",
          "2013-11-27T00:00:00",
          "2013-11-27T00:00:00",
          "2013-11-10T00:00:00",
          "2013-11-10T00:00:00",
          "2013-11-04T00:00:00",
          "2013-10-22T00:00:00",
          "2013-09-16T00:00:00",
          "2013-08-26T00:00:00",
          "2013-08-21T00:00:00",
          "2013-08-11T00:00:00",
          "2013-08-04T00:00:00",
          "2013-07-31T00:00:00",
          "2013-07-30T00:00:00",
          "2013-07-30T00:00:00",
          "2013-07-09T00:00:00",
          "2013-07-03T00:00:00",
          "2013-05-26T00:00:00",
          "2013-04-28T00:00:00",
          "2013-04-28T00:00:00",
          "2013-04-18T00:00:00",
          "2013-01-29T00:00:00",
          "2013-01-29T00:00:00",
          "2013-01-24T00:00:00",
          "2013-01-07T00:00:00",
          "2013-01-03T00:00:00",
          "2012-11-22T00:00:00",
          "2012-11-20T00:00:00",
          "2012-10-09T00:00:00",
          "2012-10-08T00:00:00",
          "2012-10-04T00:00:00",
          "2012-09-24T00:00:00",
          "2012-09-13T00:00:00",
          "2012-09-13T00:00:00",
          "2012-09-10T00:00:00",
          "2012-08-28T00:00:00",
          "2012-08-28T00:00:00",
          "2012-08-16T00:00:00",
          "2012-08-01T00:00:00",
          "2012-07-25T00:00:00",
          "2012-07-09T00:00:00",
          "2012-07-03T00:00:00",
          "2012-06-06T00:00:00",
          "2012-05-01T00:00:00",
          "2012-04-30T00:00:00",
          "2012-04-27T00:00:00",
          "2012-04-24T00:00:00",
          "2012-04-20T00:00:00",
          "2012-04-02T00:00:00",
          "2012-03-29T00:00:00",
          "2012-03-16T00:00:00",
          "2012-03-14T00:00:00",
          "2012-03-09T00:00:00",
          "2012-03-09T00:00:00",
          "2012-03-02T00:00:00",
          "2012-03-02T00:00:00",
          "2012-02-27T00:00:00",
          "2012-02-27T00:00:00",
          "2012-02-24T00:00:00",
          "2012-02-22T00:00:00",
          "2012-02-17T00:00:00",
          "2012-02-15T00:00:00",
          "2012-02-15T00:00:00",
          "2012-02-06T00:00:00",
          "2012-02-06T00:00:00",
          "2012-02-03T00:00:00",
          "2012-02-02T00:00:00",
          "2012-01-31T00:00:00",
          "2012-01-28T00:00:00",
          "2012-01-26T00:00:00",
          "2012-01-20T00:00:00",
          "2012-01-12T00:00:00",
          "2012-01-12T00:00:00",
          "2012-01-10T00:00:00",
          "2012-01-09T00:00:00",
          "2012-01-09T00:00:00",
          "2011-12-24T00:00:00",
          "2011-12-01T00:00:00",
          "2011-12-01T00:00:00",
          "2011-11-18T00:00:00",
          "2011-11-10T00:00:00",
          "2011-10-31T00:00:00",
          "2011-10-24T00:00:00",
          "2011-10-23T00:00:00",
          "2011-10-22T00:00:00",
          "2011-10-19T00:00:00",
          "2011-10-19T00:00:00",
          "2011-10-14T00:00:00",
          "2011-09-30T00:00:00",
          "2011-09-13T00:00:00",
          "2011-09-13T00:00:00",
          "2011-09-12T00:00:00",
          "2011-08-23T00:00:00",
          "2011-08-22T00:00:00",
          "2011-08-15T00:00:00",
          "2011-08-14T00:00:00",
          "2011-08-09T00:00:00",
          "2011-08-09T00:00:00",
          "2011-08-07T00:00:00",
          "2011-08-04T00:00:00",
          "2011-08-01T00:00:00",
          "2011-08-01T00:00:00",
          "2011-07-31T00:00:00",
          "2011-07-27T00:00:00",
          "2011-07-25T00:00:00",
          "2011-07-25T00:00:00",
          "2011-07-22T00:00:00",
          "2011-07-18T00:00:00",
          "2011-07-17T00:00:00",
          "2011-07-11T00:00:00",
          "2011-07-06T00:00:00",
          "2011-07-04T00:00:00"
         ],
         "xaxis": "x",
         "y": [
          0,
          1,
          2,
          3,
          4,
          5,
          6,
          7,
          8,
          9,
          10,
          11,
          12,
          13,
          14,
          15,
          16,
          17,
          18,
          19,
          20,
          21,
          22,
          23,
          24,
          25,
          26,
          27,
          28,
          29,
          30,
          31,
          32,
          33,
          34,
          35,
          36,
          37,
          38,
          39,
          40,
          41,
          42,
          43,
          44,
          45,
          46,
          47,
          48,
          49,
          50,
          51,
          52,
          53,
          54,
          55,
          56,
          57,
          58,
          59,
          60,
          61,
          62,
          63,
          64,
          65,
          66,
          67,
          68,
          69,
          70,
          71,
          72,
          73,
          74,
          75,
          76,
          77,
          78,
          79,
          80,
          81,
          82,
          83,
          84,
          85,
          86,
          87,
          88,
          89,
          90,
          91,
          92,
          93,
          94,
          95,
          96,
          97,
          98,
          99,
          100,
          101,
          102,
          103,
          104,
          105,
          106,
          107,
          108,
          109,
          110,
          111,
          112,
          113,
          114,
          115,
          116,
          117,
          118,
          119,
          120,
          121,
          122,
          123,
          124,
          125,
          126,
          127,
          128,
          129,
          130,
          131,
          132,
          133,
          134,
          135,
          136,
          137,
          138,
          139,
          140,
          141,
          142,
          143,
          144,
          145,
          146,
          147,
          148,
          149,
          150,
          151,
          152,
          153,
          154,
          155,
          156,
          157,
          158,
          159,
          160,
          161,
          162,
          163,
          164,
          165,
          166,
          167,
          168,
          169,
          170,
          171,
          172,
          173,
          174,
          175,
          176,
          177,
          178,
          179,
          180,
          181,
          182,
          183,
          184,
          185,
          186,
          187,
          188,
          189,
          190,
          191,
          192,
          193,
          194,
          195,
          196,
          197,
          198,
          199,
          200,
          201,
          202,
          203,
          204,
          205,
          206,
          207,
          208,
          209,
          210,
          211,
          212,
          213,
          214,
          215,
          216,
          217,
          218,
          219,
          220,
          221,
          222,
          223,
          224,
          225,
          226,
          227,
          228,
          229,
          230,
          231,
          232,
          233,
          234,
          235,
          236,
          237,
          238,
          239,
          240,
          241,
          242,
          243,
          244,
          245,
          246,
          247,
          248,
          249,
          250,
          251,
          252,
          253,
          254,
          255,
          256,
          257,
          258,
          259,
          260,
          261,
          262,
          263,
          264,
          265,
          266,
          267,
          268,
          269,
          270,
          271,
          272,
          273,
          274,
          275,
          276,
          277,
          278,
          279,
          280,
          281,
          282,
          283,
          284,
          285,
          286,
          287,
          288,
          289,
          290,
          291,
          292,
          293,
          294,
          295,
          296,
          297,
          298,
          299,
          300,
          301,
          302,
          303,
          304,
          305,
          306,
          307,
          308,
          309,
          310,
          311,
          312,
          313,
          314,
          315,
          316,
          317,
          318,
          319,
          320,
          321,
          322,
          323,
          324,
          325,
          326,
          327,
          328,
          329,
          330,
          331,
          332,
          333,
          334,
          335,
          336,
          337,
          338,
          339,
          340,
          341,
          342,
          343,
          344,
          345,
          346,
          347,
          348,
          349,
          350,
          351,
          352,
          353,
          354,
          355,
          356,
          357,
          358,
          359,
          360,
          361,
          362,
          363,
          364,
          365,
          366,
          367,
          368,
          369,
          370,
          371,
          372,
          373,
          374,
          375,
          376,
          377,
          378,
          379,
          380,
          381,
          382,
          383,
          384,
          385,
          386,
          387,
          388,
          389,
          390,
          391,
          392,
          393,
          394,
          395,
          396,
          397,
          398,
          399,
          400,
          401,
          402,
          403,
          404,
          405,
          406,
          407,
          408,
          409,
          410,
          411,
          412,
          413,
          414,
          415,
          416,
          417,
          418,
          419,
          420,
          421,
          422,
          423,
          424,
          425,
          426,
          427,
          428,
          429,
          430,
          431,
          432,
          433,
          434
         ],
         "yaxis": "y"
        }
       ],
       "layout": {
        "legend": {
         "tracegroupgap": 0
        },
        "margin": {
         "t": 60
        },
        "template": {
         "data": {
          "bar": [
           {
            "error_x": {
             "color": "#2a3f5f"
            },
            "error_y": {
             "color": "#2a3f5f"
            },
            "marker": {
             "line": {
              "color": "#E5ECF6",
              "width": 0.5
             },
             "pattern": {
              "fillmode": "overlay",
              "size": 10,
              "solidity": 0.2
             }
            },
            "type": "bar"
           }
          ],
          "barpolar": [
           {
            "marker": {
             "line": {
              "color": "#E5ECF6",
              "width": 0.5
             },
             "pattern": {
              "fillmode": "overlay",
              "size": 10,
              "solidity": 0.2
             }
            },
            "type": "barpolar"
           }
          ],
          "carpet": [
           {
            "aaxis": {
             "endlinecolor": "#2a3f5f",
             "gridcolor": "white",
             "linecolor": "white",
             "minorgridcolor": "white",
             "startlinecolor": "#2a3f5f"
            },
            "baxis": {
             "endlinecolor": "#2a3f5f",
             "gridcolor": "white",
             "linecolor": "white",
             "minorgridcolor": "white",
             "startlinecolor": "#2a3f5f"
            },
            "type": "carpet"
           }
          ],
          "choropleth": [
           {
            "colorbar": {
             "outlinewidth": 0,
             "ticks": ""
            },
            "type": "choropleth"
           }
          ],
          "contour": [
           {
            "colorbar": {
             "outlinewidth": 0,
             "ticks": ""
            },
            "colorscale": [
             [
              0,
              "#0d0887"
             ],
             [
              0.1111111111111111,
              "#46039f"
             ],
             [
              0.2222222222222222,
              "#7201a8"
             ],
             [
              0.3333333333333333,
              "#9c179e"
             ],
             [
              0.4444444444444444,
              "#bd3786"
             ],
             [
              0.5555555555555556,
              "#d8576b"
             ],
             [
              0.6666666666666666,
              "#ed7953"
             ],
             [
              0.7777777777777778,
              "#fb9f3a"
             ],
             [
              0.8888888888888888,
              "#fdca26"
             ],
             [
              1,
              "#f0f921"
             ]
            ],
            "type": "contour"
           }
          ],
          "contourcarpet": [
           {
            "colorbar": {
             "outlinewidth": 0,
             "ticks": ""
            },
            "type": "contourcarpet"
           }
          ],
          "heatmap": [
           {
            "colorbar": {
             "outlinewidth": 0,
             "ticks": ""
            },
            "colorscale": [
             [
              0,
              "#0d0887"
             ],
             [
              0.1111111111111111,
              "#46039f"
             ],
             [
              0.2222222222222222,
              "#7201a8"
             ],
             [
              0.3333333333333333,
              "#9c179e"
             ],
             [
              0.4444444444444444,
              "#bd3786"
             ],
             [
              0.5555555555555556,
              "#d8576b"
             ],
             [
              0.6666666666666666,
              "#ed7953"
             ],
             [
              0.7777777777777778,
              "#fb9f3a"
             ],
             [
              0.8888888888888888,
              "#fdca26"
             ],
             [
              1,
              "#f0f921"
             ]
            ],
            "type": "heatmap"
           }
          ],
          "heatmapgl": [
           {
            "colorbar": {
             "outlinewidth": 0,
             "ticks": ""
            },
            "colorscale": [
             [
              0,
              "#0d0887"
             ],
             [
              0.1111111111111111,
              "#46039f"
             ],
             [
              0.2222222222222222,
              "#7201a8"
             ],
             [
              0.3333333333333333,
              "#9c179e"
             ],
             [
              0.4444444444444444,
              "#bd3786"
             ],
             [
              0.5555555555555556,
              "#d8576b"
             ],
             [
              0.6666666666666666,
              "#ed7953"
             ],
             [
              0.7777777777777778,
              "#fb9f3a"
             ],
             [
              0.8888888888888888,
              "#fdca26"
             ],
             [
              1,
              "#f0f921"
             ]
            ],
            "type": "heatmapgl"
           }
          ],
          "histogram": [
           {
            "marker": {
             "pattern": {
              "fillmode": "overlay",
              "size": 10,
              "solidity": 0.2
             }
            },
            "type": "histogram"
           }
          ],
          "histogram2d": [
           {
            "colorbar": {
             "outlinewidth": 0,
             "ticks": ""
            },
            "colorscale": [
             [
              0,
              "#0d0887"
             ],
             [
              0.1111111111111111,
              "#46039f"
             ],
             [
              0.2222222222222222,
              "#7201a8"
             ],
             [
              0.3333333333333333,
              "#9c179e"
             ],
             [
              0.4444444444444444,
              "#bd3786"
             ],
             [
              0.5555555555555556,
              "#d8576b"
             ],
             [
              0.6666666666666666,
              "#ed7953"
             ],
             [
              0.7777777777777778,
              "#fb9f3a"
             ],
             [
              0.8888888888888888,
              "#fdca26"
             ],
             [
              1,
              "#f0f921"
             ]
            ],
            "type": "histogram2d"
           }
          ],
          "histogram2dcontour": [
           {
            "colorbar": {
             "outlinewidth": 0,
             "ticks": ""
            },
            "colorscale": [
             [
              0,
              "#0d0887"
             ],
             [
              0.1111111111111111,
              "#46039f"
             ],
             [
              0.2222222222222222,
              "#7201a8"
             ],
             [
              0.3333333333333333,
              "#9c179e"
             ],
             [
              0.4444444444444444,
              "#bd3786"
             ],
             [
              0.5555555555555556,
              "#d8576b"
             ],
             [
              0.6666666666666666,
              "#ed7953"
             ],
             [
              0.7777777777777778,
              "#fb9f3a"
             ],
             [
              0.8888888888888888,
              "#fdca26"
             ],
             [
              1,
              "#f0f921"
             ]
            ],
            "type": "histogram2dcontour"
           }
          ],
          "mesh3d": [
           {
            "colorbar": {
             "outlinewidth": 0,
             "ticks": ""
            },
            "type": "mesh3d"
           }
          ],
          "parcoords": [
           {
            "line": {
             "colorbar": {
              "outlinewidth": 0,
              "ticks": ""
             }
            },
            "type": "parcoords"
           }
          ],
          "pie": [
           {
            "automargin": true,
            "type": "pie"
           }
          ],
          "scatter": [
           {
            "fillpattern": {
             "fillmode": "overlay",
             "size": 10,
             "solidity": 0.2
            },
            "type": "scatter"
           }
          ],
          "scatter3d": [
           {
            "line": {
             "colorbar": {
              "outlinewidth": 0,
              "ticks": ""
             }
            },
            "marker": {
             "colorbar": {
              "outlinewidth": 0,
              "ticks": ""
             }
            },
            "type": "scatter3d"
           }
          ],
          "scattercarpet": [
           {
            "marker": {
             "colorbar": {
              "outlinewidth": 0,
              "ticks": ""
             }
            },
            "type": "scattercarpet"
           }
          ],
          "scattergeo": [
           {
            "marker": {
             "colorbar": {
              "outlinewidth": 0,
              "ticks": ""
             }
            },
            "type": "scattergeo"
           }
          ],
          "scattergl": [
           {
            "marker": {
             "colorbar": {
              "outlinewidth": 0,
              "ticks": ""
             }
            },
            "type": "scattergl"
           }
          ],
          "scattermapbox": [
           {
            "marker": {
             "colorbar": {
              "outlinewidth": 0,
              "ticks": ""
             }
            },
            "type": "scattermapbox"
           }
          ],
          "scatterpolar": [
           {
            "marker": {
             "colorbar": {
              "outlinewidth": 0,
              "ticks": ""
             }
            },
            "type": "scatterpolar"
           }
          ],
          "scatterpolargl": [
           {
            "marker": {
             "colorbar": {
              "outlinewidth": 0,
              "ticks": ""
             }
            },
            "type": "scatterpolargl"
           }
          ],
          "scatterternary": [
           {
            "marker": {
             "colorbar": {
              "outlinewidth": 0,
              "ticks": ""
             }
            },
            "type": "scatterternary"
           }
          ],
          "surface": [
           {
            "colorbar": {
             "outlinewidth": 0,
             "ticks": ""
            },
            "colorscale": [
             [
              0,
              "#0d0887"
             ],
             [
              0.1111111111111111,
              "#46039f"
             ],
             [
              0.2222222222222222,
              "#7201a8"
             ],
             [
              0.3333333333333333,
              "#9c179e"
             ],
             [
              0.4444444444444444,
              "#bd3786"
             ],
             [
              0.5555555555555556,
              "#d8576b"
             ],
             [
              0.6666666666666666,
              "#ed7953"
             ],
             [
              0.7777777777777778,
              "#fb9f3a"
             ],
             [
              0.8888888888888888,
              "#fdca26"
             ],
             [
              1,
              "#f0f921"
             ]
            ],
            "type": "surface"
           }
          ],
          "table": [
           {
            "cells": {
             "fill": {
              "color": "#EBF0F8"
             },
             "line": {
              "color": "white"
             }
            },
            "header": {
             "fill": {
              "color": "#C8D4E3"
             },
             "line": {
              "color": "white"
             }
            },
            "type": "table"
           }
          ]
         },
         "layout": {
          "annotationdefaults": {
           "arrowcolor": "#2a3f5f",
           "arrowhead": 0,
           "arrowwidth": 1
          },
          "autotypenumbers": "strict",
          "coloraxis": {
           "colorbar": {
            "outlinewidth": 0,
            "ticks": ""
           }
          },
          "colorscale": {
           "diverging": [
            [
             0,
             "#8e0152"
            ],
            [
             0.1,
             "#c51b7d"
            ],
            [
             0.2,
             "#de77ae"
            ],
            [
             0.3,
             "#f1b6da"
            ],
            [
             0.4,
             "#fde0ef"
            ],
            [
             0.5,
             "#f7f7f7"
            ],
            [
             0.6,
             "#e6f5d0"
            ],
            [
             0.7,
             "#b8e186"
            ],
            [
             0.8,
             "#7fbc41"
            ],
            [
             0.9,
             "#4d9221"
            ],
            [
             1,
             "#276419"
            ]
           ],
           "sequential": [
            [
             0,
             "#0d0887"
            ],
            [
             0.1111111111111111,
             "#46039f"
            ],
            [
             0.2222222222222222,
             "#7201a8"
            ],
            [
             0.3333333333333333,
             "#9c179e"
            ],
            [
             0.4444444444444444,
             "#bd3786"
            ],
            [
             0.5555555555555556,
             "#d8576b"
            ],
            [
             0.6666666666666666,
             "#ed7953"
            ],
            [
             0.7777777777777778,
             "#fb9f3a"
            ],
            [
             0.8888888888888888,
             "#fdca26"
            ],
            [
             1,
             "#f0f921"
            ]
           ],
           "sequentialminus": [
            [
             0,
             "#0d0887"
            ],
            [
             0.1111111111111111,
             "#46039f"
            ],
            [
             0.2222222222222222,
             "#7201a8"
            ],
            [
             0.3333333333333333,
             "#9c179e"
            ],
            [
             0.4444444444444444,
             "#bd3786"
            ],
            [
             0.5555555555555556,
             "#d8576b"
            ],
            [
             0.6666666666666666,
             "#ed7953"
            ],
            [
             0.7777777777777778,
             "#fb9f3a"
            ],
            [
             0.8888888888888888,
             "#fdca26"
            ],
            [
             1,
             "#f0f921"
            ]
           ]
          },
          "colorway": [
           "#636efa",
           "#EF553B",
           "#00cc96",
           "#ab63fa",
           "#FFA15A",
           "#19d3f3",
           "#FF6692",
           "#B6E880",
           "#FF97FF",
           "#FECB52"
          ],
          "font": {
           "color": "#2a3f5f"
          },
          "geo": {
           "bgcolor": "white",
           "lakecolor": "white",
           "landcolor": "#E5ECF6",
           "showlakes": true,
           "showland": true,
           "subunitcolor": "white"
          },
          "hoverlabel": {
           "align": "left"
          },
          "hovermode": "closest",
          "mapbox": {
           "style": "light"
          },
          "paper_bgcolor": "white",
          "plot_bgcolor": "#E5ECF6",
          "polar": {
           "angularaxis": {
            "gridcolor": "white",
            "linecolor": "white",
            "ticks": ""
           },
           "bgcolor": "#E5ECF6",
           "radialaxis": {
            "gridcolor": "white",
            "linecolor": "white",
            "ticks": ""
           }
          },
          "scene": {
           "xaxis": {
            "backgroundcolor": "#E5ECF6",
            "gridcolor": "white",
            "gridwidth": 2,
            "linecolor": "white",
            "showbackground": true,
            "ticks": "",
            "zerolinecolor": "white"
           },
           "yaxis": {
            "backgroundcolor": "#E5ECF6",
            "gridcolor": "white",
            "gridwidth": 2,
            "linecolor": "white",
            "showbackground": true,
            "ticks": "",
            "zerolinecolor": "white"
           },
           "zaxis": {
            "backgroundcolor": "#E5ECF6",
            "gridcolor": "white",
            "gridwidth": 2,
            "linecolor": "white",
            "showbackground": true,
            "ticks": "",
            "zerolinecolor": "white"
           }
          },
          "shapedefaults": {
           "line": {
            "color": "#2a3f5f"
           }
          },
          "ternary": {
           "aaxis": {
            "gridcolor": "white",
            "linecolor": "white",
            "ticks": ""
           },
           "baxis": {
            "gridcolor": "white",
            "linecolor": "white",
            "ticks": ""
           },
           "bgcolor": "#E5ECF6",
           "caxis": {
            "gridcolor": "white",
            "linecolor": "white",
            "ticks": ""
           }
          },
          "title": {
           "x": 0.05
          },
          "xaxis": {
           "automargin": true,
           "gridcolor": "white",
           "linecolor": "white",
           "ticks": "",
           "title": {
            "standoff": 15
           },
           "zerolinecolor": "white",
           "zerolinewidth": 2
          },
          "yaxis": {
           "automargin": true,
           "gridcolor": "white",
           "linecolor": "white",
           "ticks": "",
           "title": {
            "standoff": 15
           },
           "zerolinecolor": "white",
           "zerolinewidth": 2
          }
         }
        },
        "xaxis": {
         "anchor": "y",
         "domain": [
          0,
          1
         ],
         "title": {
          "text": "date"
         }
        },
        "yaxis": {
         "anchor": "x",
         "domain": [
          0,
          1
         ],
         "title": {
          "text": "index"
         }
        }
       }
      }
     },
     "metadata": {},
     "output_type": "display_data"
    }
   ],
   "source": [
    "# Time Series Analysis on the Date column\n",
    "fig = px.line(df, x='date')\n",
    "fig.show()"
   ]
  },
  {
   "cell_type": "markdown",
   "metadata": {},
   "source": [
    "There is a decline on the number of reviews that have been shared."
   ]
  },
  {
   "cell_type": "code",
   "execution_count": 23,
   "metadata": {},
   "outputs": [],
   "source": [
    "# make a frequency chart that will tell us the key topics that are mentioned in the reviews\n",
    "\n",
    "reviews = df['corpus']\n",
    "\n",
    "# Convert the reviews into a list of words \n",
    "\n",
    "words = []\n",
    "for review in reviews:\n",
    "    words.extend(review.split())\n",
    "    \n",
    "\n",
    "# Filter out the remaining stopwords\n",
    "\n",
    "stopwords = nltk.corpus.stopwords.words('english')\n",
    "key_words = [word for word in words if word not in stopwords and word not in ['I', 'The','would','one','get','-']]\n"
   ]
  },
  {
   "cell_type": "code",
   "execution_count": 24,
   "metadata": {},
   "outputs": [],
   "source": [
    "# Get the top 20 most used words \n",
    "word_counts = Counter(key_words)\n",
    "top_20_words = word_counts.most_common(20)\n",
    "\n",
    "# Filter out any of the remaining stop words \n",
    "filtered_words = [\n",
    "    (word, count) for word, count in top_20_words if word not in stopwords and word not in ['I', 'The','would','one','get','-']\n",
    "    ]\n"
   ]
  },
  {
   "cell_type": "code",
   "execution_count": 25,
   "metadata": {},
   "outputs": [
    {
     "data": {
      "image/png": "[encoded data removed]",
      "text/plain": [
       "<Figure size 640x480 with 1 Axes>"
      ]
     },
     "metadata": {},
     "output_type": "display_data"
    }
   ],
   "source": [
    "# Get the labels and values for the histogram\n",
    "labels, values = zip(*top_20_words)\n",
    "\n",
    "# Create the histogram\n",
    "plt.bar(labels, values)\n",
    "\n",
    "# Set the x-axis labels to be vertical\n",
    "plt.xticks(rotation=90)\n",
    "\n",
    "#Display the plot\n",
    "plt.show()\n"
   ]
  },
  {
   "cell_type": "code",
   "execution_count": 26,
   "metadata": {},
   "outputs": [
    {
     "data": {
      "image/png": "[encoded data removed]",
      "text/plain": [
       "<Figure size 1000x1000 with 1 Axes>"
      ]
     },
     "metadata": {},
     "output_type": "display_data"
    }
   ],
   "source": [
    "reviews = \" \".join(df.corpus)\n",
    "\n",
    "# Load the airplane image\n",
    "airplane_mask = np.array(Image.open(\"plane.png\"))\n",
    "\n",
    "# Set stopwords\n",
    "stopwords = set(STOPWORDS)\n",
    "\n",
    "# Create a WordCloud instance with the airplane mask\n",
    "wordcloud = WordCloud(\n",
    "    width=800,\n",
    "    height=800,\n",
    "    background_color=\"white\",\n",
    "    mask=airplane_mask,  \n",
    "    stopwords=stopwords,\n",
    "    contour_width=1,\n",
    "    contour_color=\"black\"\n",
    ").generate(reviews)\n",
    "\n",
    "# Display the WordCloud with the airplane mask\n",
    "plt.figure(figsize=(10, 10))\n",
    "plt.imshow(wordcloud, interpolation=\"bilinear\")\n",
    "plt.axis(\"off\")\n",
    "plt.show()\n"
   ]
  },
  {
   "cell_type": "code",
   "execution_count": 27,
   "metadata": {},
   "outputs": [],
   "source": [
    "#split the text of all reviews into a list of words\n",
    "words = reviews.split(\" \")\n",
    "\n",
    "#remove certain words that will not be used to determine the positive or negative sentiment\n",
    "stopwords = text.ENGLISH_STOP_WORDS.union(['flight', 'kq', \"passenger\",\"u\",\"airway\",\"airline\",\n",
    "                                           \"nairobi\",\"plane\",\"via\",\"nbo\"])\n",
    "\n",
    "\n",
    "new_words = [word for word in words if word not in stopwords]\n",
    "\n",
    "nlp_words=FreqDist(new_words).most_common(20)\n",
    "\n",
    "#create a dataframe of these word and its frequencies\n",
    "all_fdist = pd.Series(dict(nlp_words))"
   ]
  },
  {
   "cell_type": "code",
   "execution_count": 28,
   "metadata": {},
   "outputs": [
    {
     "data": {
      "image/png": "[encoded data removed]",
      "text/plain": [
       "<Figure size 1500x800 with 1 Axes>"
      ]
     },
     "metadata": {},
     "output_type": "display_data"
    }
   ],
   "source": [
    "# Setting figure, ax into variables\n",
    "fig, ax = plt.subplots(figsize=(15, 8))\n",
    "\n",
    "# Seaborn plotting using Pandas attributes + xtick rotation for ease of viewing\n",
    "all_plot = sns.barplot(x=all_fdist.index, y=all_fdist.values, ax=ax)\n",
    "\n",
    "# Add labels to the bars\n",
    "for container in all_plot.containers:\n",
    "    for rect in container:\n",
    "        height = rect.get_height()\n",
    "        ax.annotate(f'{height:.2f}', xy=(rect.get_x() + rect.get_width() / 2, height),\n",
    "                    xytext=(0, 3), textcoords='offset points',\n",
    "                    ha='center', va='bottom')\n",
    "\n",
    "# Rotate x-axis tick labels for better visibility\n",
    "plt.xticks(rotation=30)\n",
    "\n",
    "# Display the plot\n",
    "plt.show()"
   ]
  },
  {
   "cell_type": "markdown",
   "metadata": {},
   "source": [
    "### **Word Frequency using N-gram**\n",
    "\n",
    "\n",
    "Word frequency with N-grams means looking at how often specific sets of N words appear together in a text. These sets give us insights into word patterns and connections. "
   ]
  },
  {
   "cell_type": "code",
   "execution_count": 29,
   "metadata": {},
   "outputs": [
    {
     "data": {
      "text/plain": [
       "<Axes: >"
      ]
     },
     "execution_count": 29,
     "metadata": {},
     "output_type": "execute_result"
    },
    {
     "data": {
      "image/png": "[encoded data removed]",
      "text/plain": [
       "<Figure size 1000x1000 with 1 Axes>"
      ]
     },
     "metadata": {},
     "output_type": "display_data"
    }
   ],
   "source": [
    "reviews = \" \".join(df.corpus)\n",
    "\n",
    "# Split the text of all reviews into a list of words\n",
    "words = reviews.split(\" \")\n",
    "\n",
    "new_words = [word for word in words if word not in stopwords]\n",
    "\n",
    "def get_freq_dist(new_words, number_of_ngrams):\n",
    "    # Generate n-grams\n",
    "    ngrams_list = list(ngrams(new_words, number_of_ngrams))\n",
    "\n",
    "    # Creating FreqDist\n",
    "    ngram_fd = FreqDist(ngrams_list).most_common(40)\n",
    "\n",
    "    # Sort values by highest frequency\n",
    "    ngram_sorted = {k: v for k, v in sorted(ngram_fd, key=lambda item: item[1])}\n",
    "\n",
    "    # Join n-gram tokens with '_' and maintain sorting\n",
    "    ngram_joined = {'_'.join(k): v for k, v in sorted(ngram_fd, key=lambda item: item[1])}\n",
    "\n",
    "    # Convert to Pandas Series for easy plotting\n",
    "    ngram_freqdist = pd.Series(ngram_joined)\n",
    "    plt.figure(figsize=(10, 10))\n",
    "    ax = ngram_freqdist.plot(kind=\"barh\")\n",
    "\n",
    "    return ax\n",
    "\n",
    "get_freq_dist(new_words, 4)\n"
   ]
  },
  {
   "cell_type": "code",
   "execution_count": 30,
   "metadata": {},
   "outputs": [],
   "source": [
    "%%capture\n",
    "vds = SentimentIntensityAnalyzer()\n",
    "\n",
    "df['label'] = 0\n",
    "    \n",
    "for i in range(len(df.corpus)):\n",
    "    \n",
    "    score = vds.polarity_scores(df.corpus[i])['compound']\n",
    "    # Positive sentiments\n",
    "    if score > 0.2:\n",
    "        df['label'][i] = 1\n",
    "        # Negative sentiments \n",
    "    elif score < 0:\n",
    "        df['label'][i] = -1\n",
    "\n"
   ]
  },
  {
   "cell_type": "code",
   "execution_count": 31,
   "metadata": {},
   "outputs": [
    {
     "data": {
      "image/png": "[encoded data removed]",
      "text/plain": [
       "<Figure size 640x480 with 1 Axes>"
      ]
     },
     "metadata": {},
     "output_type": "display_data"
    }
   ],
   "source": [
    "# Calculate label distribution percentages\n",
    "label_percentages = df.label.value_counts(normalize=True) * 100\n",
    "\n",
    "# Bar chart\n",
    "colors = ['#3498db','#e74c3c', '#8e44ad',]  \n",
    "labels = ['Positive', 'Negative', 'Neutral']\n",
    "\n",
    "plt.bar(labels, label_percentages, color=colors)\n",
    "plt.xlabel('Sentiment Label')\n",
    "plt.ylabel('Percentage')\n",
    "plt.title('Sentiment Distribution in Customer Reviews')\n",
    "plt.ylim(0, 100)\n",
    "\n",
    "# Display percentages on the bars\n",
    "for i, percentage in enumerate(label_percentages):\n",
    "    plt.text(i, percentage + 2, f\"{percentage:.2f}%\", ha='center', color='black')\n",
    "\n",
    "plt.show()"
   ]
  },
  {
   "cell_type": "code",
   "execution_count": 32,
   "metadata": {},
   "outputs": [],
   "source": [
    "# Create an object of CountVectorizer\n",
    "vect = CountVectorizer()\n",
    "\n",
    "# Convert the corpus to a list of strings (if not already)\n",
    "corpus = df.corpus.tolist()\n",
    "\n",
    "# Apply transformation\n",
    "tf = vect.fit_transform(corpus)\n",
    "tf_array = tf.toarray()\n",
    "\n",
    "# Get the feature names\n",
    "tf_feature_names = vect.get_feature_names_out()"
   ]
  },
  {
   "cell_type": "code",
   "execution_count": 33,
   "metadata": {},
   "outputs": [
    {
     "data": {
      "text/html": [
       "<div>\n",
       "<style scoped>\n",
       "    .dataframe tbody tr th:only-of-type {\n",
       "        vertical-align: middle;\n",
       "    }\n",
       "\n",
       "    .dataframe tbody tr th {\n",
       "        vertical-align: top;\n",
       "    }\n",
       "\n",
       "    .dataframe thead th {\n",
       "        text-align: right;\n",
       "    }\n",
       "</style>\n",
       "<table border=\"1\" class=\"dataframe\">\n",
       "  <thead>\n",
       "    <tr style=\"text-align: right;\">\n",
       "      <th></th>\n",
       "      <th>Topic 0 words</th>\n",
       "      <th>Topic 0 weights</th>\n",
       "      <th>Topic 1 words</th>\n",
       "      <th>Topic 1 weights</th>\n",
       "      <th>Topic 2 words</th>\n",
       "      <th>Topic 2 weights</th>\n",
       "      <th>Topic 3 words</th>\n",
       "      <th>Topic 3 weights</th>\n",
       "      <th>Topic 4 words</th>\n",
       "      <th>Topic 4 weights</th>\n",
       "      <th>Topic 5 words</th>\n",
       "      <th>Topic 5 weights</th>\n",
       "      <th>Topic 6 words</th>\n",
       "      <th>Topic 6 weights</th>\n",
       "      <th>Topic 7 words</th>\n",
       "      <th>Topic 7 weights</th>\n",
       "    </tr>\n",
       "  </thead>\n",
       "  <tbody>\n",
       "    <tr>\n",
       "      <th>0</th>\n",
       "      <td>nairobi</td>\n",
       "      <td>30.9</td>\n",
       "      <td>flight</td>\n",
       "      <td>374.9</td>\n",
       "      <td>flight</td>\n",
       "      <td>528.3</td>\n",
       "      <td>flight</td>\n",
       "      <td>31.2</td>\n",
       "      <td>staff</td>\n",
       "      <td>3.2</td>\n",
       "      <td>baby</td>\n",
       "      <td>4.1</td>\n",
       "      <td>flight</td>\n",
       "      <td>113.0</td>\n",
       "      <td>flight</td>\n",
       "      <td>75.0</td>\n",
       "    </tr>\n",
       "    <tr>\n",
       "      <th>1</th>\n",
       "      <td>airway</td>\n",
       "      <td>30.3</td>\n",
       "      <td>good</td>\n",
       "      <td>189.1</td>\n",
       "      <td>nairobi</td>\n",
       "      <td>237.6</td>\n",
       "      <td>cabin</td>\n",
       "      <td>28.7</td>\n",
       "      <td>possibly</td>\n",
       "      <td>3.1</td>\n",
       "      <td>come</td>\n",
       "      <td>3.4</td>\n",
       "      <td>seat</td>\n",
       "      <td>67.3</td>\n",
       "      <td>kenya</td>\n",
       "      <td>50.8</td>\n",
       "    </tr>\n",
       "    <tr>\n",
       "      <th>2</th>\n",
       "      <td>kenya</td>\n",
       "      <td>25.5</td>\n",
       "      <td>time</td>\n",
       "      <td>182.1</td>\n",
       "      <td>kenya</td>\n",
       "      <td>212.4</td>\n",
       "      <td>crew</td>\n",
       "      <td>22.7</td>\n",
       "      <td>found</td>\n",
       "      <td>2.5</td>\n",
       "      <td>crew</td>\n",
       "      <td>3.2</td>\n",
       "      <td>nairobi</td>\n",
       "      <td>52.7</td>\n",
       "      <td>would</td>\n",
       "      <td>49.1</td>\n",
       "    </tr>\n",
       "    <tr>\n",
       "      <th>3</th>\n",
       "      <td>would</td>\n",
       "      <td>25.3</td>\n",
       "      <td>seat</td>\n",
       "      <td>156.4</td>\n",
       "      <td>airway</td>\n",
       "      <td>202.0</td>\n",
       "      <td>service</td>\n",
       "      <td>18.7</td>\n",
       "      <td>entertainment</td>\n",
       "      <td>2.2</td>\n",
       "      <td>airline</td>\n",
       "      <td>3.1</td>\n",
       "      <td>passenger</td>\n",
       "      <td>46.6</td>\n",
       "      <td>airway</td>\n",
       "      <td>47.7</td>\n",
       "    </tr>\n",
       "    <tr>\n",
       "      <th>4</th>\n",
       "      <td>kq</td>\n",
       "      <td>25.0</td>\n",
       "      <td>nairobi</td>\n",
       "      <td>151.7</td>\n",
       "      <td>hour</td>\n",
       "      <td>171.6</td>\n",
       "      <td>food</td>\n",
       "      <td>18.0</td>\n",
       "      <td>especially</td>\n",
       "      <td>2.1</td>\n",
       "      <td>infant</td>\n",
       "      <td>3.1</td>\n",
       "      <td>service</td>\n",
       "      <td>36.7</td>\n",
       "      <td>told</td>\n",
       "      <td>46.1</td>\n",
       "    </tr>\n",
       "    <tr>\n",
       "      <th>5</th>\n",
       "      <td>time</td>\n",
       "      <td>21.7</td>\n",
       "      <td>food</td>\n",
       "      <td>140.5</td>\n",
       "      <td>airline</td>\n",
       "      <td>132.4</td>\n",
       "      <td>nbo</td>\n",
       "      <td>17.7</td>\n",
       "      <td>quite</td>\n",
       "      <td>2.1</td>\n",
       "      <td>food</td>\n",
       "      <td>3.0</td>\n",
       "      <td>time</td>\n",
       "      <td>35.4</td>\n",
       "      <td>nairobi</td>\n",
       "      <td>45.5</td>\n",
       "    </tr>\n",
       "    <tr>\n",
       "      <th>6</th>\n",
       "      <td>passenger</td>\n",
       "      <td>20.3</td>\n",
       "      <td>nbo</td>\n",
       "      <td>139.1</td>\n",
       "      <td>verified</td>\n",
       "      <td>127.1</td>\n",
       "      <td>nairobi</td>\n",
       "      <td>17.5</td>\n",
       "      <td>looking</td>\n",
       "      <td>2.1</td>\n",
       "      <td>customer</td>\n",
       "      <td>2.9</td>\n",
       "      <td>kenya</td>\n",
       "      <td>32.3</td>\n",
       "      <td>airport</td>\n",
       "      <td>39.0</td>\n",
       "    </tr>\n",
       "    <tr>\n",
       "      <th>7</th>\n",
       "      <td>trip</td>\n",
       "      <td>20.3</td>\n",
       "      <td>service</td>\n",
       "      <td>112.4</td>\n",
       "      <td>trip</td>\n",
       "      <td>105.7</td>\n",
       "      <td>time</td>\n",
       "      <td>16.1</td>\n",
       "      <td>flown</td>\n",
       "      <td>2.0</td>\n",
       "      <td>pride</td>\n",
       "      <td>2.7</td>\n",
       "      <td>airway</td>\n",
       "      <td>31.2</td>\n",
       "      <td>day</td>\n",
       "      <td>34.3</td>\n",
       "    </tr>\n",
       "    <tr>\n",
       "      <th>8</th>\n",
       "      <td>verified</td>\n",
       "      <td>19.1</td>\n",
       "      <td>kq</td>\n",
       "      <td>102.5</td>\n",
       "      <td>time</td>\n",
       "      <td>102.6</td>\n",
       "      <td>airway</td>\n",
       "      <td>15.6</td>\n",
       "      <td>worse</td>\n",
       "      <td>1.9</td>\n",
       "      <td>price</td>\n",
       "      <td>2.6</td>\n",
       "      <td>food</td>\n",
       "      <td>30.1</td>\n",
       "      <td>desk</td>\n",
       "      <td>32.4</td>\n",
       "    </tr>\n",
       "    <tr>\n",
       "      <th>9</th>\n",
       "      <td>mauritius</td>\n",
       "      <td>17.1</td>\n",
       "      <td>airline</td>\n",
       "      <td>87.3</td>\n",
       "      <td>ticket</td>\n",
       "      <td>95.0</td>\n",
       "      <td>seat</td>\n",
       "      <td>15.6</td>\n",
       "      <td>kid</td>\n",
       "      <td>1.9</td>\n",
       "      <td>service</td>\n",
       "      <td>2.6</td>\n",
       "      <td>hour</td>\n",
       "      <td>26.3</td>\n",
       "      <td>staff</td>\n",
       "      <td>28.3</td>\n",
       "    </tr>\n",
       "  </tbody>\n",
       "</table>\n",
       "</div>"
      ],
      "text/plain": [
       "  Topic 0 words Topic 0 weights Topic 1 words Topic 1 weights Topic 2 words  \\\n",
       "0       nairobi            30.9        flight           374.9        flight   \n",
       "1        airway            30.3          good           189.1       nairobi   \n",
       "2         kenya            25.5          time           182.1         kenya   \n",
       "3         would            25.3          seat           156.4        airway   \n",
       "4            kq            25.0       nairobi           151.7          hour   \n",
       "5          time            21.7          food           140.5       airline   \n",
       "6     passenger            20.3           nbo           139.1      verified   \n",
       "7          trip            20.3       service           112.4          trip   \n",
       "8      verified            19.1            kq           102.5          time   \n",
       "9     mauritius            17.1       airline            87.3        ticket   \n",
       "\n",
       "  Topic 2 weights Topic 3 words Topic 3 weights  Topic 4 words  \\\n",
       "0           528.3        flight            31.2          staff   \n",
       "1           237.6         cabin            28.7       possibly   \n",
       "2           212.4          crew            22.7          found   \n",
       "3           202.0       service            18.7  entertainment   \n",
       "4           171.6          food            18.0     especially   \n",
       "5           132.4           nbo            17.7          quite   \n",
       "6           127.1       nairobi            17.5        looking   \n",
       "7           105.7          time            16.1          flown   \n",
       "8           102.6        airway            15.6          worse   \n",
       "9            95.0          seat            15.6            kid   \n",
       "\n",
       "  Topic 4 weights Topic 5 words Topic 5 weights Topic 6 words Topic 6 weights  \\\n",
       "0             3.2          baby             4.1        flight           113.0   \n",
       "1             3.1          come             3.4          seat            67.3   \n",
       "2             2.5          crew             3.2       nairobi            52.7   \n",
       "3             2.2       airline             3.1     passenger            46.6   \n",
       "4             2.1        infant             3.1       service            36.7   \n",
       "5             2.1          food             3.0          time            35.4   \n",
       "6             2.1      customer             2.9         kenya            32.3   \n",
       "7             2.0         pride             2.7        airway            31.2   \n",
       "8             1.9         price             2.6          food            30.1   \n",
       "9             1.9       service             2.6          hour            26.3   \n",
       "\n",
       "  Topic 7 words Topic 7 weights  \n",
       "0        flight            75.0  \n",
       "1         kenya            50.8  \n",
       "2         would            49.1  \n",
       "3        airway            47.7  \n",
       "4          told            46.1  \n",
       "5       nairobi            45.5  \n",
       "6       airport            39.0  \n",
       "7           day            34.3  \n",
       "8          desk            32.4  \n",
       "9         staff            28.3  "
      ]
     },
     "execution_count": 33,
     "metadata": {},
     "output_type": "execute_result"
    }
   ],
   "source": [
    "#declare the number of topics\n",
    "number_of_topics = 8\n",
    "\n",
    "model = LatentDirichletAllocation(n_components=number_of_topics, random_state=0)\n",
    "\n",
    "#fit the term frequency data to the model\n",
    "model.fit(tf)\n",
    "\n",
    "#create empty dictionary to store key value pair of topic number and its weights\n",
    "topic_dict = {}\n",
    "\n",
    "#loop through model components \n",
    "for topic_idx, topic in enumerate(model.components_):\n",
    "    topic_dict[\"Topic %d words\" % (topic_idx)]= ['{}'.format(tf_feature_names[i])\n",
    "            for i in topic.argsort()[:-10 - 1:-1]]\n",
    "    topic_dict[\"Topic %d weights\" % (topic_idx)]= ['{:.1f}'.format(topic[i])\n",
    "            for i in topic.argsort()[:-10 - 1:-1]]\n",
    "    \n",
    "df_topic = pd.DataFrame(topic_dict)\n",
    "\n",
    "df_topic"
   ]
  },
  {
   "cell_type": "code",
   "execution_count": 34,
   "metadata": {},
   "outputs": [
    {
     "data": {
      "image/png": "[encoded data removed]",
      "text/plain": [
       "<Figure size 2000x1800 with 8 Axes>"
      ]
     },
     "metadata": {},
     "output_type": "display_data"
    }
   ],
   "source": [
    "# Create subplots for each topic in a 2x2 grid\n",
    "fig, axes = plt.subplots(2, 4, figsize=(20,18), sharey=True)\n",
    "\n",
    "# Flatten the 2D axes array\n",
    "axes = axes.flatten()\n",
    "\n",
    "# Iterate over the topics and available subplots\n",
    "for topic_idx, ax in enumerate(axes):\n",
    "    if topic_idx < number_of_topics:  # Only plot if there are available subplots\n",
    "        words = topic_dict[f\"Topic {topic_idx} words\"]\n",
    "        weights = [float(w) for w in topic_dict[f\"Topic {topic_idx} weights\"]]\n",
    "        \n",
    "        ax.barh(words, weights, color='#f2a359')\n",
    "        ax.set_title(f\"Topic {topic_idx}\")\n",
    "        ax.invert_yaxis()\n",
    "\n",
    "# Add common labels\n",
    "fig.text(0.5, 0.04, 'Word Weight', ha='center', fontsize=12)\n",
    "fig.text(0.04, 0.5, 'Top Words', va='center', rotation='vertical', fontsize=18)\n",
    "\n",
    "plt.show()\n"
   ]
  },
  {
   "cell_type": "markdown",
   "metadata": {},
   "source": [
    "**Interpretation:**\n",
    "1. **Topic 0**: This topic discusses flight experiences with a focus on positive aspects like \"good\" quality, flight \"time,\" and comfortable \"seat.\" \"Food\" and \"service\" also contribute to the positive discourse, while \"nbo\" and \"kq\" are mentioned, likely indicating specific locations or airlines.\n",
    "\n",
    "2. **Topic 1**: Flight-related discussions dominate this topic, emphasizing \"flight\" occurrences and \"time\" aspects. \"Service\" and \"good\" experiences are highlighted, along with considerations about \"seat,\" \"nbo,\" and \"new\" services.\n",
    "\n",
    "3. **Topic 2**: Topics here revolve around airlines and locations, with mentions of \"nairobi,\" \"kenya,\" and \"airway.\" Terms like \"ticket,\" \"check,\" and \"refund\" suggest customer interactions and possible feedback.\n",
    "\n",
    "4. **Topic 3**: Conversations about passengers and airline experiences take center stage in this topic. \"Passenger\" and \"nairobi\" discussions are accompanied by mentions of \"airway,\" \"kenya,\" and details about baggage handling.\n",
    "\n",
    "5. **Topic 4**: This topic delves into flight experiences, with a focus on airline \"airway,\" \"kenya,\" and \"flight\" services. \"Verified\" and \"nairobi\" considerations are accompanied by discussions about \"seat,\" \"would,\" and considerations for \"return\" travel.\n",
    "\n",
    "6. **Topic 5**: Flight-related themes are predominant, featuring discussions about \"flight\" and \"nairobi\" experiences. This topic also includes considerations for \"seat\" comfort, interactions with the \"crew,\" and the overall \"cabin\" environment.\n",
    "\n",
    "7. **Topic 6**: The topic centers around flight aspects, including \"flight\" experiences, \"nairobi\" interactions, and \"hourly\" considerations. There's a focus on airport experiences, \"day\" occurrences, and customer considerations.\n",
    "\n",
    "8. **Topic 7**: This topic highlights flight experiences, \"nairobi\" interactions, and \"kenya\" considerations. The theme of \"hourly\" experiences and \"time\" aspects is notable, along with discussions about days of the week.\n",
    "\n"
   ]
  },
  {
   "cell_type": "markdown",
   "metadata": {},
   "source": [
    "## <span style=\"color: navy;\">**Unsupervised Learning Models**</span>\n",
    "### **Topic modeling with NMF**\n",
    "Topic modeling with NMF enhances NLP sentiment analysis by revealing underlying themes in text. It provides context, granularity, and insights, enabling more personalized responses and understanding of complex sentiments within specific topics."
   ]
  },
  {
   "cell_type": "code",
   "execution_count": 35,
   "metadata": {},
   "outputs": [
    {
     "data": {
      "text/plain": [
       "array([[0.        , 0.        , 0.04026749, ..., 0.        , 0.00506886,\n",
       "        0.03847475],\n",
       "       [0.12029562, 0.04899274, 0.02799305, ..., 0.03460698, 0.08147805,\n",
       "        0.        ],\n",
       "       [0.11813616, 0.0529252 , 0.0570703 , ..., 0.        , 0.05034101,\n",
       "        0.        ],\n",
       "       ...,\n",
       "       [0.0873462 , 0.08923328, 0.00678887, ..., 0.        , 0.00242572,\n",
       "        0.        ],\n",
       "       [0.        , 0.        , 0.        , ..., 0.        , 0.01463449,\n",
       "        0.00060824],\n",
       "       [0.06264971, 0.02510262, 0.03666696, ..., 0.1036581 , 0.        ,\n",
       "        0.        ]])"
      ]
     },
     "execution_count": 35,
     "metadata": {},
     "output_type": "execute_result"
    }
   ],
   "source": [
    "# Specify the number of components/topics for NMF\n",
    "num_components = 10\n",
    "\n",
    "# Create an NMF model with specified components and initialization method\n",
    "# Using 'random' initialization and setting a random state for reproducibility\n",
    "nmf = NMF(n_components=num_components, init='random', random_state=0)\n",
    "\n",
    "# Fit the NMF model to the given term-frequency matrix (tf)\n",
    "# The NMF model will learn the latent topics from the matrix\n",
    "nmf.fit_transform(tf)"
   ]
  },
  {
   "cell_type": "code",
   "execution_count": 36,
   "metadata": {},
   "outputs": [
    {
     "data": {
      "text/html": [
       "<div>\n",
       "<style scoped>\n",
       "    .dataframe tbody tr th:only-of-type {\n",
       "        vertical-align: middle;\n",
       "    }\n",
       "\n",
       "    .dataframe tbody tr th {\n",
       "        vertical-align: top;\n",
       "    }\n",
       "\n",
       "    .dataframe thead th {\n",
       "        text-align: right;\n",
       "    }\n",
       "</style>\n",
       "<table border=\"1\" class=\"dataframe\">\n",
       "  <thead>\n",
       "    <tr style=\"text-align: right;\">\n",
       "      <th></th>\n",
       "      <th>Topic 0 words</th>\n",
       "      <th>Topic 0 weights</th>\n",
       "      <th>Topic 1 words</th>\n",
       "      <th>Topic 1 weights</th>\n",
       "      <th>Topic 2 words</th>\n",
       "      <th>Topic 2 weights</th>\n",
       "      <th>Topic 3 words</th>\n",
       "      <th>Topic 3 weights</th>\n",
       "      <th>Topic 4 words</th>\n",
       "      <th>Topic 4 weights</th>\n",
       "      <th>Topic 5 words</th>\n",
       "      <th>Topic 5 weights</th>\n",
       "      <th>Topic 6 words</th>\n",
       "      <th>Topic 6 weights</th>\n",
       "      <th>Topic 7 words</th>\n",
       "      <th>Topic 7 weights</th>\n",
       "      <th>Topic 8 words</th>\n",
       "      <th>Topic 8 weights</th>\n",
       "      <th>Topic 9 words</th>\n",
       "      <th>Topic 9 weights</th>\n",
       "    </tr>\n",
       "  </thead>\n",
       "  <tbody>\n",
       "    <tr>\n",
       "      <th>0</th>\n",
       "      <td>kenya</td>\n",
       "      <td>7.3</td>\n",
       "      <td>agent</td>\n",
       "      <td>1.8</td>\n",
       "      <td>nbo</td>\n",
       "      <td>6.4</td>\n",
       "      <td>airline</td>\n",
       "      <td>7.4</td>\n",
       "      <td>nairobi</td>\n",
       "      <td>15.7</td>\n",
       "      <td>class</td>\n",
       "      <td>6.7</td>\n",
       "      <td>hour</td>\n",
       "      <td>7.3</td>\n",
       "      <td>flight</td>\n",
       "      <td>26.5</td>\n",
       "      <td>time</td>\n",
       "      <td>11.1</td>\n",
       "      <td>ticket</td>\n",
       "      <td>10.7</td>\n",
       "    </tr>\n",
       "    <tr>\n",
       "      <th>1</th>\n",
       "      <td>airway</td>\n",
       "      <td>7.0</td>\n",
       "      <td>boarding</td>\n",
       "      <td>1.7</td>\n",
       "      <td>seat</td>\n",
       "      <td>5.9</td>\n",
       "      <td>would</td>\n",
       "      <td>4.6</td>\n",
       "      <td>johannesburg</td>\n",
       "      <td>4.0</td>\n",
       "      <td>business</td>\n",
       "      <td>6.6</td>\n",
       "      <td>day</td>\n",
       "      <td>5.0</td>\n",
       "      <td>hour</td>\n",
       "      <td>2.5</td>\n",
       "      <td>kq</td>\n",
       "      <td>4.3</td>\n",
       "      <td>refund</td>\n",
       "      <td>4.9</td>\n",
       "    </tr>\n",
       "    <tr>\n",
       "      <th>2</th>\n",
       "      <td>ticket</td>\n",
       "      <td>1.4</td>\n",
       "      <td>around</td>\n",
       "      <td>1.6</td>\n",
       "      <td>good</td>\n",
       "      <td>4.2</td>\n",
       "      <td>visa</td>\n",
       "      <td>3.7</td>\n",
       "      <td>via</td>\n",
       "      <td>3.1</td>\n",
       "      <td>lounge</td>\n",
       "      <td>6.4</td>\n",
       "      <td>airport</td>\n",
       "      <td>4.9</td>\n",
       "      <td>delayed</td>\n",
       "      <td>1.1</td>\n",
       "      <td>trip</td>\n",
       "      <td>2.5</td>\n",
       "      <td>ka</td>\n",
       "      <td>4.0</td>\n",
       "    </tr>\n",
       "    <tr>\n",
       "      <th>3</th>\n",
       "      <td>back</td>\n",
       "      <td>0.9</td>\n",
       "      <td>jfk</td>\n",
       "      <td>1.5</td>\n",
       "      <td>food</td>\n",
       "      <td>3.5</td>\n",
       "      <td>one</td>\n",
       "      <td>3.6</td>\n",
       "      <td>verified</td>\n",
       "      <td>2.7</td>\n",
       "      <td>good</td>\n",
       "      <td>4.9</td>\n",
       "      <td>told</td>\n",
       "      <td>4.8</td>\n",
       "      <td>airline</td>\n",
       "      <td>1.0</td>\n",
       "      <td>minute</td>\n",
       "      <td>2.3</td>\n",
       "      <td>service</td>\n",
       "      <td>3.6</td>\n",
       "    </tr>\n",
       "    <tr>\n",
       "      <th>4</th>\n",
       "      <td>paid</td>\n",
       "      <td>0.8</td>\n",
       "      <td>ka</td>\n",
       "      <td>1.5</td>\n",
       "      <td>cabin</td>\n",
       "      <td>3.2</td>\n",
       "      <td>even</td>\n",
       "      <td>3.3</td>\n",
       "      <td>airline</td>\n",
       "      <td>2.6</td>\n",
       "      <td>seat</td>\n",
       "      <td>4.6</td>\n",
       "      <td>next</td>\n",
       "      <td>4.4</td>\n",
       "      <td>connecting</td>\n",
       "      <td>1.0</td>\n",
       "      <td>luggage</td>\n",
       "      <td>2.2</td>\n",
       "      <td>back</td>\n",
       "      <td>2.3</td>\n",
       "    </tr>\n",
       "    <tr>\n",
       "      <th>5</th>\n",
       "      <td>airport</td>\n",
       "      <td>0.7</td>\n",
       "      <td>gate</td>\n",
       "      <td>1.5</td>\n",
       "      <td>time</td>\n",
       "      <td>3.1</td>\n",
       "      <td>customer</td>\n",
       "      <td>3.3</td>\n",
       "      <td>bangkok</td>\n",
       "      <td>2.5</td>\n",
       "      <td>kq</td>\n",
       "      <td>3.7</td>\n",
       "      <td>hotel</td>\n",
       "      <td>3.8</td>\n",
       "      <td>nairobi</td>\n",
       "      <td>0.9</td>\n",
       "      <td>bag</td>\n",
       "      <td>2.0</td>\n",
       "      <td>cost</td>\n",
       "      <td>2.0</td>\n",
       "    </tr>\n",
       "    <tr>\n",
       "      <th>6</th>\n",
       "      <td>let</td>\n",
       "      <td>0.7</td>\n",
       "      <td>staff</td>\n",
       "      <td>1.4</td>\n",
       "      <td>crew</td>\n",
       "      <td>3.0</td>\n",
       "      <td>sri</td>\n",
       "      <td>3.0</td>\n",
       "      <td>passenger</td>\n",
       "      <td>2.4</td>\n",
       "      <td>food</td>\n",
       "      <td>3.4</td>\n",
       "      <td>would</td>\n",
       "      <td>3.7</td>\n",
       "      <td>return</td>\n",
       "      <td>0.8</td>\n",
       "      <td>check</td>\n",
       "      <td>1.8</td>\n",
       "      <td>trip</td>\n",
       "      <td>2.0</td>\n",
       "    </tr>\n",
       "    <tr>\n",
       "      <th>7</th>\n",
       "      <td>told</td>\n",
       "      <td>0.6</td>\n",
       "      <td>pm</td>\n",
       "      <td>1.3</td>\n",
       "      <td>service</td>\n",
       "      <td>2.6</td>\n",
       "      <td>said</td>\n",
       "      <td>2.8</td>\n",
       "      <td>staff</td>\n",
       "      <td>2.3</td>\n",
       "      <td>flight</td>\n",
       "      <td>3.1</td>\n",
       "      <td>get</td>\n",
       "      <td>3.5</td>\n",
       "      <td>booked</td>\n",
       "      <td>0.8</td>\n",
       "      <td>night</td>\n",
       "      <td>1.6</td>\n",
       "      <td>day</td>\n",
       "      <td>1.9</td>\n",
       "    </tr>\n",
       "    <tr>\n",
       "      <th>8</th>\n",
       "      <td>later</td>\n",
       "      <td>0.6</td>\n",
       "      <td>asked</td>\n",
       "      <td>1.2</td>\n",
       "      <td>new</td>\n",
       "      <td>2.0</td>\n",
       "      <td>go</td>\n",
       "      <td>2.7</td>\n",
       "      <td>service</td>\n",
       "      <td>2.0</td>\n",
       "      <td>economy</td>\n",
       "      <td>2.9</td>\n",
       "      <td>arrived</td>\n",
       "      <td>2.8</td>\n",
       "      <td>new</td>\n",
       "      <td>0.7</td>\n",
       "      <td>service</td>\n",
       "      <td>1.5</td>\n",
       "      <td>make</td>\n",
       "      <td>1.8</td>\n",
       "    </tr>\n",
       "    <tr>\n",
       "      <th>9</th>\n",
       "      <td>staff</td>\n",
       "      <td>0.6</td>\n",
       "      <td>would</td>\n",
       "      <td>1.2</td>\n",
       "      <td>comfortable</td>\n",
       "      <td>1.8</td>\n",
       "      <td>check</td>\n",
       "      <td>2.6</td>\n",
       "      <td>hour</td>\n",
       "      <td>1.9</td>\n",
       "      <td>well</td>\n",
       "      <td>2.9</td>\n",
       "      <td>luggage</td>\n",
       "      <td>2.2</td>\n",
       "      <td>even</td>\n",
       "      <td>0.7</td>\n",
       "      <td>pm</td>\n",
       "      <td>1.4</td>\n",
       "      <td>finally</td>\n",
       "      <td>1.8</td>\n",
       "    </tr>\n",
       "  </tbody>\n",
       "</table>\n",
       "</div>"
      ],
      "text/plain": [
       "  Topic 0 words Topic 0 weights Topic 1 words Topic 1 weights Topic 2 words  \\\n",
       "0         kenya             7.3         agent             1.8           nbo   \n",
       "1        airway             7.0      boarding             1.7          seat   \n",
       "2        ticket             1.4        around             1.6          good   \n",
       "3          back             0.9           jfk             1.5          food   \n",
       "4          paid             0.8            ka             1.5         cabin   \n",
       "5       airport             0.7          gate             1.5          time   \n",
       "6           let             0.7         staff             1.4          crew   \n",
       "7          told             0.6            pm             1.3       service   \n",
       "8         later             0.6         asked             1.2           new   \n",
       "9         staff             0.6         would             1.2   comfortable   \n",
       "\n",
       "  Topic 2 weights Topic 3 words Topic 3 weights Topic 4 words Topic 4 weights  \\\n",
       "0             6.4       airline             7.4       nairobi            15.7   \n",
       "1             5.9         would             4.6  johannesburg             4.0   \n",
       "2             4.2          visa             3.7           via             3.1   \n",
       "3             3.5           one             3.6      verified             2.7   \n",
       "4             3.2          even             3.3       airline             2.6   \n",
       "5             3.1      customer             3.3       bangkok             2.5   \n",
       "6             3.0           sri             3.0     passenger             2.4   \n",
       "7             2.6          said             2.8         staff             2.3   \n",
       "8             2.0            go             2.7       service             2.0   \n",
       "9             1.8         check             2.6          hour             1.9   \n",
       "\n",
       "  Topic 5 words Topic 5 weights Topic 6 words Topic 6 weights Topic 7 words  \\\n",
       "0         class             6.7          hour             7.3        flight   \n",
       "1      business             6.6           day             5.0          hour   \n",
       "2        lounge             6.4       airport             4.9       delayed   \n",
       "3          good             4.9          told             4.8       airline   \n",
       "4          seat             4.6          next             4.4    connecting   \n",
       "5            kq             3.7         hotel             3.8       nairobi   \n",
       "6          food             3.4         would             3.7        return   \n",
       "7        flight             3.1           get             3.5        booked   \n",
       "8       economy             2.9       arrived             2.8           new   \n",
       "9          well             2.9       luggage             2.2          even   \n",
       "\n",
       "  Topic 7 weights Topic 8 words Topic 8 weights Topic 9 words Topic 9 weights  \n",
       "0            26.5          time            11.1        ticket            10.7  \n",
       "1             2.5            kq             4.3        refund             4.9  \n",
       "2             1.1          trip             2.5            ka             4.0  \n",
       "3             1.0        minute             2.3       service             3.6  \n",
       "4             1.0       luggage             2.2          back             2.3  \n",
       "5             0.9           bag             2.0          cost             2.0  \n",
       "6             0.8         check             1.8          trip             2.0  \n",
       "7             0.8         night             1.6           day             1.9  \n",
       "8             0.7       service             1.5          make             1.8  \n",
       "9             0.7            pm             1.4       finally             1.8  "
      ]
     },
     "execution_count": 36,
     "metadata": {},
     "output_type": "execute_result"
    }
   ],
   "source": [
    "topic_dict = {}\n",
    "\n",
    "#loop through model components \n",
    "for topic_idx, topic in enumerate(nmf.components_):\n",
    "    topic_dict[\"Topic %d words\" % (topic_idx)]= ['{}'.format(tf_feature_names[i])\n",
    "            for i in topic.argsort()[:-10 - 1:-1]]\n",
    "    topic_dict[\"Topic %d weights\" % (topic_idx)]= ['{:.1f}'.format(topic[i])\n",
    "            for i in topic.argsort()[:-10 - 1:-1]]\n",
    "    \n",
    "df_topic =pd.DataFrame(topic_dict)\n",
    "\n",
    "df_topic"
   ]
  },
  {
   "cell_type": "markdown",
   "metadata": {},
   "source": [
    "**Interpretation**:\n",
    "1. **Topic 0**: Discussion involves \"kenya\" and \"airway,\" potentially related to the airline's origin. \"Ticket,\" \"back,\" and \"paid\" are mentioned with moderate weights.\n",
    "\n",
    "2. **Topic 1**: \"Hour,\" \"airport,\" and \"day\" appear in discussions about time and airport experiences. \"Next,\" \"get,\" and \"hotel\" suggest considerations for travel arrangements.\n",
    "\n",
    "3. **Topic 2**: Conversations focus on \"ticket\" and \"airline,\" possibly involving customer service and refund matters. \"Service,\" \"refund,\" and \"customer\" are significant terms.\n",
    "\n",
    "4. **Topic 3**: \"KQ\" (Kenya Airways), \"lounge,\" and \"seat\" dominate discussions about service quality. \"Staff,\" \"trip,\" and \"time\" are also present.\n",
    "\n",
    "5. **Topic 4**: This topic centers on \"business class\" experiences, \"good\" services, and \"seat\" quality. \"Airline,\" \"verified,\" and \"food\" are relevant aspects.\n",
    "\n",
    "6. **Topic 5**: \"NBO\" (Nairobi), \"lounge,\" and \"seat\" discussions highlight airport and seating experiences. \"Airline,\" \"trip,\" and \"cabin\" are significant terms.\n",
    "\n",
    "7. **Topic 6**: Talks revolve around \"nairobi\" and \"time,\" potentially involving flight scheduling. \"Check,\" \"ka,\" and \"staff\" are also mentioned.\n",
    "\n",
    "8. **Topic 7**: This topic includes discussions about \"flight\" experiences, \"boarding,\" and \"hour\" considerations. \"Time,\" \"hour,\" and \"return\" are notable.\n",
    "\n",
    "9. **Topic 8**: Conversations involve \"flight\" experiences, \"hour\" considerations, and \"delayed\" occurrences. \"Gate,\" \"connect,\" and \"night\" are present."
   ]
  },
  {
   "cell_type": "markdown",
   "metadata": {},
   "source": [
    "## <span style=\"color: navy;\">**Supervised Learning Models**</span>"
   ]
  },
  {
   "cell_type": "code",
   "execution_count": 37,
   "metadata": {},
   "outputs": [
    {
     "data": {
      "text/plain": [
       "sentiment\n",
       "-1    0.54023\n",
       " 1    0.45977\n",
       "Name: proportion, dtype: float64"
      ]
     },
     "execution_count": 37,
     "metadata": {},
     "output_type": "execute_result"
    }
   ],
   "source": [
    "# Convert continuous sentiment scores to categorical labels\n",
    "df['sentiment'] = df['sentiment'].apply(lambda x: 1 if x > 0.2 else -1)\n",
    "df['sentiment'].value_counts(normalize=True)\n"
   ]
  },
  {
   "cell_type": "code",
   "execution_count": 38,
   "metadata": {},
   "outputs": [],
   "source": [
    "# Training and Test split\n",
    "\n",
    "X = df['corpus']  # Features\n",
    "y = df['sentiment']   # Target variable\n",
    "\n",
    "X_train, X_test, y_train, y_test = train_test_split(X, y, test_size=0.2, random_state=42)\n"
   ]
  },
  {
   "cell_type": "code",
   "execution_count": 39,
   "metadata": {},
   "outputs": [],
   "source": [
    "# Feature Extraction\n",
    "\n",
    "vect = CountVectorizer()\n",
    "x_train_vect = vect.fit_transform(X_train)\n",
    "x_test_vect = vect.transform(X_test)"
   ]
  },
  {
   "cell_type": "markdown",
   "metadata": {},
   "source": [
    "#### **Logistic Regression**"
   ]
  },
  {
   "cell_type": "code",
   "execution_count": 40,
   "metadata": {},
   "outputs": [
    {
     "name": "stdout",
     "output_type": "stream",
     "text": [
      "Accuracy on test data: 0.89\n",
      "Classification Report:\n",
      "              precision    recall  f1-score   support\n",
      "\n",
      "          -1       0.88      0.91      0.89        46\n",
      "           1       0.90      0.85      0.88        41\n",
      "\n",
      "    accuracy                           0.89        87\n",
      "   macro avg       0.89      0.88      0.88        87\n",
      "weighted avg       0.89      0.89      0.88        87\n",
      "\n"
     ]
    }
   ],
   "source": [
    "# Instantiate Logistic Regression\n",
    "\n",
    "model = LogisticRegression()\n",
    "model.fit(x_train_vect, y_train)\n",
    "\n",
    "# Model Evaluation\n",
    "y_pred = model.predict(x_test_vect)\n",
    "accuracy = accuracy_score(y_test, y_pred)\n",
    "print(f\"Accuracy on test data: {accuracy:.2f}\")\n",
    "print(\"Classification Report:\")\n",
    "print(classification_report(y_test, y_pred))"
   ]
  },
  {
   "cell_type": "markdown",
   "metadata": {},
   "source": [
    "**Model Summary**\n",
    "\n",
    "The logistic regression model achieved an accuracy of 0.89 on the test data. It demonstrates good precision and recall for class -1 and class 1. The decision tree model was employed to explore potential performance improvement due to its ability to capture nonlinear relationships and interactions. If the decision tree model outperforms, it suggests that complex data interactions play a role in prediction accuracy."
   ]
  },
  {
   "cell_type": "markdown",
   "metadata": {},
   "source": [
    "### **Decision Tree Model**"
   ]
  },
  {
   "cell_type": "code",
   "execution_count": 41,
   "metadata": {},
   "outputs": [
    {
     "name": "stdout",
     "output_type": "stream",
     "text": [
      "Decision Tree Accuracy: 0.70\n",
      "Decision Tree Classification Report:\n",
      "              precision    recall  f1-score   support\n",
      "\n",
      "          -1       0.68      0.83      0.75        46\n",
      "           1       0.74      0.56      0.64        41\n",
      "\n",
      "    accuracy                           0.70        87\n",
      "   macro avg       0.71      0.69      0.69        87\n",
      "weighted avg       0.71      0.70      0.70        87\n",
      "\n"
     ]
    }
   ],
   "source": [
    "# Decision Tree\n",
    "dt_model = DecisionTreeClassifier()\n",
    "dt_model.fit(x_train_vect, y_train)\n",
    "\n",
    "# Model Evaluation\n",
    "\n",
    "dt_y_pred = dt_model.predict(x_test_vect)\n",
    "dt_accuracy = accuracy_score(y_test, dt_y_pred)\n",
    "print(f\"Decision Tree Accuracy: {dt_accuracy:.2f}\")\n",
    "print(\"Decision Tree Classification Report:\")\n",
    "print(classification_report(y_test, dt_y_pred))\n"
   ]
  },
  {
   "cell_type": "markdown",
   "metadata": {},
   "source": [
    "**Model Summary**\n",
    "\n",
    "The decision tree model achieved an accuracy of 0.70 on the test data. It exhibited varying precision and recall for different classes, with class -1 and class 1 showing moderate performance. In comparison, the **logistic regression model** had a higher accuracy of 0.89 and demonstrated better precision and recall scores for most classes. Given the decision tree's modest performance and its sensitivity to overfitting, a more robust ensemble model like Random Forest was chosen to enhance performance. Random Forest leverages multiple decision trees to reduce overfitting and increase predictive accuracy by aggregating their outputs."
   ]
  },
  {
   "cell_type": "markdown",
   "metadata": {},
   "source": [
    "### **Random Forest Model**"
   ]
  },
  {
   "cell_type": "code",
   "execution_count": 42,
   "metadata": {},
   "outputs": [
    {
     "name": "stdout",
     "output_type": "stream",
     "text": [
      "Random Forest Accuracy: 0.84\n",
      "Random Forest Classification Report:\n",
      "              precision    recall  f1-score   support\n",
      "\n",
      "          -1       0.83      0.87      0.85        46\n",
      "           1       0.85      0.80      0.83        41\n",
      "\n",
      "    accuracy                           0.84        87\n",
      "   macro avg       0.84      0.84      0.84        87\n",
      "weighted avg       0.84      0.84      0.84        87\n",
      "\n"
     ]
    }
   ],
   "source": [
    "# Random Forest\n",
    "rf_model = RandomForestClassifier()\n",
    "rf_model.fit(x_train_vect, y_train)\n",
    "\n",
    "# Model Evaluation\n",
    "\n",
    "rf_y_pred = rf_model.predict(x_test_vect)\n",
    "rf_accuracy = accuracy_score(y_test, rf_y_pred)\n",
    "print(f\"Random Forest Accuracy: {rf_accuracy:.2f}\")\n",
    "print(\"Random Forest Classification Report:\")\n",
    "print(classification_report(y_test, rf_y_pred))\n"
   ]
  },
  {
   "cell_type": "markdown",
   "metadata": {},
   "source": [
    "**Model Summary**\n",
    "\n",
    "The Random Forest model achieved an accuracy of 0.84 on the test data. It demonstrated good precision and recall for class -1 and class 1, similar to the logistic regression model. In comparison, the decision tree model had an accuracy of 0.70 and showed limited performance.\n",
    "\n",
    "To explore further improvements, the Support Vector Machine (SVM) model was built. SVM is capable of handling both linear and nonlinear relationships and can effectively capture complex decision boundaries. If the SVM model yields better results, it suggests that the data might have nonlinear patterns that other models fail to capture. Additionally, SVM's ability to handle high-dimensional data and maximize margins between classes makes it a valuable candidate for enhancing model performance."
   ]
  },
  {
   "cell_type": "markdown",
   "metadata": {},
   "source": [
    "### **Support Vector Machine Model**"
   ]
  },
  {
   "cell_type": "code",
   "execution_count": 43,
   "metadata": {},
   "outputs": [
    {
     "name": "stdout",
     "output_type": "stream",
     "text": [
      "SVM Accuracy: 0.82\n",
      "SVM Classification Report:\n",
      "              precision    recall  f1-score   support\n",
      "\n",
      "          -1       0.78      0.91      0.84        46\n",
      "           1       0.88      0.71      0.78        41\n",
      "\n",
      "    accuracy                           0.82        87\n",
      "   macro avg       0.83      0.81      0.81        87\n",
      "weighted avg       0.83      0.82      0.81        87\n",
      "\n"
     ]
    }
   ],
   "source": [
    "# Support Vector Machine (SVM)\n",
    "svm_model = SVC()\n",
    "svm_model.fit(x_train_vect, y_train)\n",
    "\n",
    "# Model Evaluation\n",
    "\n",
    "svm_y_pred = svm_model.predict(x_test_vect)\n",
    "svm_accuracy = accuracy_score(y_test, svm_y_pred)\n",
    "print(f\"SVM Accuracy: {svm_accuracy:.2f}\")\n",
    "print(\"SVM Classification Report:\")\n",
    "print(classification_report(y_test, svm_y_pred))"
   ]
  },
  {
   "cell_type": "markdown",
   "metadata": {},
   "source": [
    "**Model Summary**\n",
    "\n",
    "The SVM model achieved an accuracy of 0.82 on the test data, demonstrating good precision and recall for class -1 and class 1, similar to the Random Forest and logistic regression models. To further enhance model performance, the XGBoost model was chosen. XGBoost's ability to handle complex relationships, address overfitting, and boost model accuracy makes it a strong candidate for improving overall performance. Its iterative boosting approach and flexibility are well-suited for challenging scenarios."
   ]
  },
  {
   "cell_type": "markdown",
   "metadata": {},
   "source": [
    "### **XGBoost Model**"
   ]
  },
  {
   "cell_type": "code",
   "execution_count": 44,
   "metadata": {},
   "outputs": [
    {
     "name": "stdout",
     "output_type": "stream",
     "text": [
      "Best XGBoost Model Accuracy: 0.79\n",
      "XGBoost Classification Report:\n",
      "              precision    recall  f1-score   support\n",
      "\n",
      "          -1       0.80      0.80      0.80        46\n",
      "           1       0.78      0.78      0.78        41\n",
      "\n",
      "    accuracy                           0.79        87\n",
      "   macro avg       0.79      0.79      0.79        87\n",
      "weighted avg       0.79      0.79      0.79        87\n",
      "\n"
     ]
    }
   ],
   "source": [
    "import xgboost as xgb\n",
    "from sklearn.metrics import accuracy_score, classification_report\n",
    "from sklearn.model_selection import GridSearchCV\n",
    "from sklearn.preprocessing import LabelEncoder\n",
    "\n",
    "# Create a LabelEncoder to transform class labels\n",
    "label_encoder = LabelEncoder()\n",
    "y_train_encoded = label_encoder.fit_transform(y_train)\n",
    "\n",
    "# Create an XGBoost model\n",
    "xgb_model = xgb.XGBClassifier()\n",
    "\n",
    "# Define the parameter grid for tuning\n",
    "param_grid = {\n",
    "    'n_estimators': [100, 200, 300],\n",
    "    'max_depth': [3, 4, 5],\n",
    "    'learning_rate': [0.01, 0.1, 0.2]\n",
    "}\n",
    "\n",
    "# Perform GridSearchCV for hyperparameter tuning\n",
    "grid_search = GridSearchCV(xgb_model, param_grid, cv=3, verbose=0, n_jobs=-1)\n",
    "grid_search.fit(x_train_vect, y_train_encoded)\n",
    "\n",
    "# Get the best tuned model\n",
    "best_xgb_model = grid_search.best_estimator_\n",
    "\n",
    "# Predict on the test data using the best model\n",
    "xgb_y_pred_encoded = best_xgb_model.predict(x_test_vect)\n",
    "\n",
    "# Decode the predicted labels to their original values\n",
    "xgb_y_pred = label_encoder.inverse_transform(xgb_y_pred_encoded)\n",
    "\n",
    "# Evaluate the model's performance\n",
    "xgb_accuracy = accuracy_score(y_test, xgb_y_pred)\n",
    "xgb_classification_rep = classification_report(y_test, xgb_y_pred)\n",
    "\n",
    "print(f\"Best XGBoost Model Accuracy: {xgb_accuracy:.2f}\")\n",
    "print(\"XGBoost Classification Report:\")\n",
    "print(xgb_classification_rep)\n"
   ]
  },
  {
   "cell_type": "markdown",
   "metadata": {},
   "source": [
    "**Model Summary**\n",
    "\n",
    "The XGBoost model achieved an accuracy of 0.79 on the test data. Its precision, recall, and F1-score metrics indicate a balanced performance across different classes, demonstrating its ability to handle both positive and negative sentiments. The model's performance is slightly lower than the Logistic Regression model, which had an accuracy of 0.89. The XGBoost model's lower accuracy could be attributed to its complexity, as it tends to perform well on larger datasets with more complex relationships. Despite this, the XGBoost model's balanced performance makes it a valuable choice for sentiment analysis tasks where both positive and negative sentiments need to be accurately classified."
   ]
  },
  {
   "cell_type": "markdown",
   "metadata": {},
   "source": [
    "## **<span style=\"color: navy;\">Model Evaluation**</span>\n",
    "\n",
    "\n",
    "Among the models mentioned, the Logistic Regression model achieved the best performance for sentiment classification, with an accuracy of 0.89 on the test data. This model demonstrated balanced precision, recall, and F1-score metrics across different sentiment classes, indicating its ability to accurately classify both positive and negative sentiments. As it was the best performing model, it was used during the deployment process of the *Sky Opinion* Sentiment Classifier App. It was deployed and hosted on Streamlit and can be accessed by following this link [https://sky-opinion.streamlit.app/](https://sky-opinion.streamlit.app/)"
   ]
  },
  {
   "cell_type": "code",
   "execution_count": 46,
   "metadata": {},
   "outputs": [
    {
     "name": "stdout",
     "output_type": "stream",
     "text": [
      "Accuracy: 0.8850574712643678\n",
      "Classification Report:\n",
      "              precision    recall  f1-score   support\n",
      "\n",
      "          -1       0.88      0.91      0.89        46\n",
      "           1       0.90      0.85      0.88        41\n",
      "\n",
      "    accuracy                           0.89        87\n",
      "   macro avg       0.89      0.88      0.88        87\n",
      "weighted avg       0.89      0.89      0.88        87\n",
      "\n"
     ]
    }
   ],
   "source": [
    "from sklearn.pipeline import Pipeline\n",
    "\n",
    "pipeline = Pipeline([\n",
    "    ('vectorizer', CountVectorizer()),\n",
    "    ('logreg', LogisticRegression())\n",
    "])\n",
    "\n",
    "# Train the pipeline on the training data\n",
    "pipeline.fit(X_train, y_train)\n",
    "\n",
    "# Predictions on the testing data\n",
    "y_pred = pipeline.predict(X_test)\n",
    "\n",
    "# Model Evaluation\n",
    "accuracy = accuracy_score(y_test, y_pred)\n",
    "print(\"Accuracy:\", accuracy)\n",
    "print(\"Classification Report:\")\n",
    "print(classification_report(y_test, y_pred))"
   ]
  },
  {
   "cell_type": "code",
   "execution_count": 47,
   "metadata": {},
   "outputs": [],
   "source": [
    "import pickle\n",
    "\n",
    "with open('sentiment_pipeline.pkl', 'wb') as file:\n",
    "    pickle.dump(pipeline, file)"
   ]
  },
  {
   "cell_type": "markdown",
   "metadata": {},
   "source": [
    "## **<span style=\"color: navy;\">Conclusion**</span>\n",
    "\n",
    "1. **Model Performance**: The Logistic Regression model achieved the highest accuracy of 0.82 on the test data, making it the best-performing model among those evaluated.\n",
    "\n",
    "2. **Class Imbalance**: While evaluating the models, it's evident that there is some class imbalance, especially for the neutral class (label 0), which had very few instances. This can impact the model's ability to correctly predict this class.\n",
    "\n",
    "3. **Model Selection**: It's important to choose a model that aligns with the specific goals of the sentiment analysis task. In this case, Logistic Regression proved to be effective, but other models like Decision Trees, Random Forest, Support Vector Machines (SVM), and XGBoost were also explored.\n",
    "\n",
    "4. **Model Improvement**: Different models were used to check for potential improvements in performance. For example, Random Forest and XGBoost were used to address potential weaknesses in Decision Trees, and SVM was used as another classification approach.\n",
    "\n",
    "5. **Interpretability vs. Complexity**: Decision Trees and Logistic Regression are relatively interpretable models, which makes it easier to understand how they arrive at their predictions. On the other hand, models like Random Forest and XGBoost are more complex ensemble methods that might achieve higher accuracy but are harder to interpret.\n",
    "\n",
    "#### **Next Steps**\n",
    "- Further improvements can be explored by tuning hyperparameters, experimenting with different text preprocessing techniques, and potentially incorporating more advanced models or neural networks.\n",
    "\n",
    "\n",
    "## **<span style=\"color: navy;\">Recommendations**</span>\n",
    "\n",
    "1. **Regular Feedback Collection**: Establish a system for collecting continuous feedback from passengers, both during and after their travel experience. This can provide valuable insights into areas that need improvement and help in addressing issues promptly.\n",
    "\n",
    "2. **Social Media Engagement**: Actively engage with passengers on social media platforms to address their concerns and provide real-time assistance. Monitor social media channels for feedback and respond promptly.\n",
    "\n",
    "3. **Punctuality Improvement**: Negative sentiments regarding flight delays and inconsistent departure times should be addressed. Focus on improving punctuality to provide a smoother travel experience for passengers.\n",
    "\n",
    "4. **Customer Service Enhancement**: Address negative sentiments related to customer service, such as rude behavior of staff, unhelpful responses, and long wait times. Implement training programs to ensure that staff are courteous and responsive to passenger needs.\n",
    "\n",
    "5. **Communication**: Enhance communication with passengers regarding flight updates, delays, and any changes. Keeping passengers informed in a timely and transparent manner can help manage expectations and reduce frustration.\n",
    "\n",
    "6. **Passenger Comfort**: Pay attention to sentiments related to seating, legroom, and overall comfort during the flight. Consider offering amenities and services that improve passenger comfort, especially on long-haul flights."
   ]
  }
 ],
 "metadata": {
  "kernelspec": {
   "display_name": "learn-env",
   "language": "python",
   "name": "python3"
  },
  "language_info": {
   "codemirror_mode": {
    "name": "ipython",
    "version": 3
   },
   "file_extension": ".py",
   "mimetype": "text/x-python",
   "name": "python",
   "nbconvert_exporter": "python",
   "pygments_lexer": "ipython3",
   "version": "3.11.4"
  },
  "orig_nbformat": 4
 },
 "nbformat": 4,
 "nbformat_minor": 2
}
